{
 "cells": [
  {
   "cell_type": "code",
   "execution_count": null,
   "id": "100c1242",
   "metadata": {},
   "outputs": [],
   "source": [
    "# Import required libraries\n",
    "import numpy as np\n",
    "import pandas as pd\n",
    "import torch\n",
    "from chronos import BaseChronosPipeline\n",
    "from sklearn.metrics import mean_squared_error, mean_absolute_error\n",
    "import os"
   ]
  },
  {
   "cell_type": "code",
   "execution_count": null,
   "id": "cbe4a587",
   "metadata": {},
   "outputs": [],
   "source": [
    "# Parameters and Settings\n",
    "\n",
    "# Parameters for data split\n",
    "WINDOW = 21    # rolling window size to use as predictors\n",
    "DATE_COL = 'Date'\n",
    "ID_COL = 'PERMNO'\n",
    "TARGET_COL = 'excess_return'\n",
    "\n",
    "# File path for the cleaned and filtered data file\n",
    "current_directory = os.getcwd()\n",
    "clean_filtered_data_path = os.path.join(current_directory, 'Data', 'clean_filtered_data.csv')\n",
    "\n",
    "# File path to save prediction results\n",
    "results_path = os.path.join(current_directory, 'Results', f'chronos_models_results{WINDOW:.0f}.csv')\n",
    "\n",
    "# Estimation (in sample) period dates\n",
    "in_sample_start_date = pd.to_datetime(\"2000-01-01\")\n",
    "in_sample_end_date = pd.to_datetime(\"2015-12-31\")\n",
    "\n",
    "# Out-of-sample period dates\n",
    "out_sample_start_date = pd.to_datetime(\"2016-01-01\")\n",
    "out_sample_end_date = pd.to_datetime(\"2024-12-31\")\n",
    "\n",
    "# Use GPU if available, else default to using CPU for Bolt models\n",
    "device_map = \"cuda\" if torch.cuda.is_available() else \"cpu\"\n",
    "device = torch.device(\"cuda\" if torch.cuda.is_available() else \"cpu\")"
   ]
  },
  {
   "cell_type": "markdown",
   "id": "cbf2526e",
   "metadata": {},
   "source": [
    "### Step 1: Load and Process Data"
   ]
  },
  {
   "cell_type": "code",
   "execution_count": null,
   "id": "f2ceb9b7",
   "metadata": {},
   "outputs": [],
   "source": [
    "# Load the cleaned and filtered data files for in sample and out of sample periods into a pandas DataFrames\n",
    "df = pd.read_csv(clean_filtered_data_path)\n",
    "\n",
    "# Ensure the date columns are in datetime format\n",
    "df[DATE_COL] = pd.to_datetime(df[DATE_COL])\n",
    "\n",
    "df = df[[ID_COL, DATE_COL, TARGET_COL]].dropna()\n",
    "df = df.sort_values([ID_COL, DATE_COL]).reset_index(drop=True)\n",
    "\n",
    "df.info()"
   ]
  },
  {
   "cell_type": "code",
   "execution_count": null,
   "id": "b4b9b2fe",
   "metadata": {},
   "outputs": [],
   "source": [
    "# Check number of unique stocks\n",
    "stocks_permno = df[\"PERMNO\"].unique().tolist()\n",
    "print(f\"Number of unique stocks: {len(stocks_permno)}\")"
   ]
  },
  {
   "cell_type": "code",
   "execution_count": null,
   "id": "196ddb01",
   "metadata": {},
   "outputs": [],
   "source": [
    "# Spit data into estimation (in-sample) and out-of-sample data\n",
    "df_train = df[(df[DATE_COL] >= in_sample_start_date) & (df[DATE_COL] <= in_sample_end_date)].copy().reset_index(drop=True)\n",
    "out_sample_start_date = df_train[DATE_COL].tail(WINDOW).iloc[0]\n",
    "df_test = df[(df[DATE_COL] >= (out_sample_start_date)) & (df[DATE_COL] <= out_sample_end_date)].copy().reset_index(drop=True)\n",
    "\n",
    "print(df_train.info())\n",
    "print(df_test.info())"
   ]
  },
  {
   "cell_type": "code",
   "execution_count": null,
   "id": "281024c2",
   "metadata": {},
   "outputs": [],
   "source": [
    "# Create rolling window for predictors for Bolt models\n",
    "contexts = []\n",
    "targets = []\n",
    "records = []\n",
    "\n",
    "for id, grp in df_test.groupby(ID_COL):\n",
    "    values = grp[TARGET_COL].values\n",
    "    dates  = grp[DATE_COL].values\n",
    "    for i in range(len(values) - WINDOW):\n",
    "        contexts.append(torch.tensor(values[i:i+WINDOW], dtype=torch.float32, device=device))\n",
    "        targets.append(values[i+WINDOW])\n",
    "        records.append({\n",
    "            ID_COL: id,\n",
    "            TARGET_COL: values[i+WINDOW],\n",
    "            DATE_COL: dates[i+WINDOW]\n",
    "        })"
   ]
  },
  {
   "cell_type": "code",
   "execution_count": null,
   "id": "2b261f8a",
   "metadata": {},
   "outputs": [],
   "source": [
    "y_test = pd.Series(targets)\n",
    "\n",
    "results = pd.DataFrame(records)"
   ]
  },
  {
   "cell_type": "markdown",
   "id": "4ae8c3bc",
   "metadata": {},
   "source": [
    "### Step 2: Zero-Shot Forecasting with Chronos-Bolt Models"
   ]
  },
  {
   "cell_type": "code",
   "execution_count": null,
   "id": "d7771556",
   "metadata": {},
   "outputs": [],
   "source": [
    "# Creating a Function to Calculate Predictive-R2 Used in the Finance Literature\n",
    "def r2(y_true, y_pred):\n",
    "    return 1-(((y_true-y_pred)**2).sum()/(y_true**2).sum())"
   ]
  },
  {
   "cell_type": "code",
   "execution_count": null,
   "id": "f42ac7a6",
   "metadata": {},
   "outputs": [],
   "source": [
    "# Zero Shot Chronos-Bolt-Tiny\n",
    "pipeline = BaseChronosPipeline.from_pretrained(\n",
    "    'amazon/chronos-bolt-tiny',\n",
    "    device_map=device_map,\n",
    "    torch_dtype=torch.float32\n",
    ")\n",
    "\n",
    "preds = []\n",
    "for ctx in contexts:\n",
    "    quantiles, mean = pipeline.predict_quantiles(context=[ctx.to(device)], prediction_length=1, quantile_levels=[0.5])\n",
    "    preds.append(mean.cpu().squeeze().item())\n",
    "y_chr_bolt_tiny = pd.Series(preds)\n",
    "\n",
    "results['y_chr_bolt_tiny'] = y_chr_bolt_tiny"
   ]
  },
  {
   "cell_type": "code",
   "execution_count": null,
   "id": "64643317",
   "metadata": {},
   "outputs": [],
   "source": [
    "# Zero Shot Chronos-Bolt-Mini\n",
    "pipeline = BaseChronosPipeline.from_pretrained(\n",
    "    'amazon/chronos-bolt-mini',\n",
    "    device_map=device_map,\n",
    "    torch_dtype=torch.float32\n",
    ")\n",
    "\n",
    "preds = []\n",
    "for ctx in contexts:\n",
    "    quantiles, mean = pipeline.predict_quantiles(context=[ctx.to(device)], prediction_length=1, quantile_levels=[0.5])\n",
    "    preds.append(mean.cpu().squeeze().item())\n",
    "y_chr_bolt_mini = pd.Series(preds)\n",
    "\n",
    "results['y_chr_bolt_mini'] = y_chr_bolt_mini"
   ]
  },
  {
   "cell_type": "code",
   "execution_count": null,
   "id": "82886f57",
   "metadata": {},
   "outputs": [],
   "source": [
    "# Zero Shot Chronos-Bolt-Small\n",
    "pipeline = BaseChronosPipeline.from_pretrained(\n",
    "    'amazon/chronos-bolt-small',\n",
    "    device_map=device_map,\n",
    "    torch_dtype=torch.float32\n",
    ")\n",
    "\n",
    "preds = []\n",
    "for ctx in contexts:\n",
    "    quantiles, mean = pipeline.predict_quantiles(context=[ctx.to(device)], prediction_length=1, quantile_levels=[0.5])\n",
    "    preds.append(mean.cpu().squeeze().item())\n",
    "y_chr_bolt_small = pd.Series(preds)\n",
    "\n",
    "results['y_chr_bolt_small'] = y_chr_bolt_small"
   ]
  },
  {
   "cell_type": "code",
   "execution_count": null,
   "id": "8b8d3d8d",
   "metadata": {},
   "outputs": [],
   "source": [
    "# Zero Shot Chronos-Bolt-Base\n",
    "pipeline = BaseChronosPipeline.from_pretrained(\n",
    "    'amazon/chronos-bolt-base',\n",
    "    device_map=device_map,\n",
    "    torch_dtype=torch.float32\n",
    ")\n",
    "\n",
    "preds = []\n",
    "for ctx in contexts:\n",
    "    quantiles, mean = pipeline.predict_quantiles(context=[ctx.to(device)], prediction_length=1, quantile_levels=[0.5])\n",
    "    preds.append(mean.cpu().squeeze().item())\n",
    "y_chr_bolt_base = pd.Series(preds)\n",
    "\n",
    "results['y_chr_bolt_base'] = y_chr_bolt_base"
   ]
  },
  {
   "cell_type": "markdown",
   "id": "00ed92b5",
   "metadata": {},
   "source": [
    "### Step 3: Zero-Shot Forecasting with Chronos-T5 Models"
   ]
  },
  {
   "cell_type": "code",
   "execution_count": null,
   "id": "164489ce",
   "metadata": {},
   "outputs": [],
   "source": [
    "# Switching to using CPU for T5 models (system has lower GPU memory than required to load model)\n",
    "device_map = \"cpu\"\n",
    "device = torch.device(\"cpu\")"
   ]
  },
  {
   "cell_type": "code",
   "execution_count": null,
   "id": "be44bafe",
   "metadata": {},
   "outputs": [],
   "source": [
    "# Create rolling window for predictors for T5 models\n",
    "contexts = []\n",
    "targets = []\n",
    "\n",
    "for id, grp in df_test.groupby(ID_COL):\n",
    "    values = grp[TARGET_COL].values\n",
    "    dates  = grp[DATE_COL].values\n",
    "    for i in range(len(values) - WINDOW):\n",
    "        contexts.append(torch.tensor(values[i:i+WINDOW], dtype=torch.float32, device=device))\n",
    "        targets.append(values[i+WINDOW])"
   ]
  },
  {
   "cell_type": "code",
   "execution_count": null,
   "id": "046295a4",
   "metadata": {},
   "outputs": [],
   "source": [
    "# Zero Shot Chronos-T5-Tiny\n",
    "pipeline = BaseChronosPipeline.from_pretrained(\n",
    "    'amazon/chronos-t5-tiny',\n",
    "    device_map=device_map,\n",
    "    torch_dtype=torch.float32\n",
    ")\n",
    "\n",
    "preds = []\n",
    "for ctx in contexts:\n",
    "    quantiles, mean = pipeline.predict_quantiles(context=[ctx], prediction_length=1, quantile_levels=[0.5])\n",
    "    preds.append(mean.squeeze().item())\n",
    "y_chr_t5_tiny = pd.Series(preds)\n",
    "\n",
    "results['y_chr_t5_tiny'] = y_chr_t5_tiny"
   ]
  },
  {
   "cell_type": "code",
   "execution_count": null,
   "id": "5ab79219",
   "metadata": {},
   "outputs": [],
   "source": [
    "# Zero Shot Chronos-T5-Mini\n",
    "pipeline = BaseChronosPipeline.from_pretrained(\n",
    "    'amazon/chronos-t5-mini',\n",
    "    device_map=device_map,\n",
    "    torch_dtype=torch.float32\n",
    ")\n",
    "\n",
    "preds = []\n",
    "for ctx in contexts:\n",
    "    quantiles, mean = pipeline.predict_quantiles(context=[ctx], prediction_length=1, quantile_levels=[0.5])\n",
    "    preds.append(mean.squeeze().item())\n",
    "y_chr_t5_mini = pd.Series(preds)\n",
    "\n",
    "results['y_chr_t5_mini'] = y_chr_t5_mini"
   ]
  },
  {
   "cell_type": "code",
   "execution_count": null,
   "id": "b47e7d35",
   "metadata": {},
   "outputs": [],
   "source": [
    "# Zero Shot Chronos-T5-Small\n",
    "pipeline = BaseChronosPipeline.from_pretrained(\n",
    "    'amazon/chronos-t5-small',\n",
    "    device_map=device_map,\n",
    "    torch_dtype=torch.float32\n",
    ")\n",
    "\n",
    "preds = []\n",
    "for ctx in contexts:\n",
    "    quantiles, mean = pipeline.predict_quantiles(context=[ctx], prediction_length=1, quantile_levels=[0.5])\n",
    "    preds.append(mean.squeeze().item())\n",
    "y_chr_t5_small = pd.Series(preds)\n",
    "\n",
    "results['y_chr_t5_small'] = y_chr_t5_small"
   ]
  },
  {
   "cell_type": "markdown",
   "id": "264e6163",
   "metadata": {},
   "source": [
    "### Step 4: Evaluate Statistical Performance of Models"
   ]
  },
  {
   "cell_type": "code",
   "execution_count": null,
   "id": "b5c1b494",
   "metadata": {},
   "outputs": [],
   "source": [
    "# Evaluate models\n",
    "\n",
    "# Chronos-Bolt-Tiny\n",
    "r2_chr_bolt_tiny  = r2(y_test, y_chr_bolt_tiny)\n",
    "mse_chr_bolt_tiny = mean_squared_error(y_test, y_chr_bolt_tiny)\n",
    "mae_chr_bolt_tiny = mean_absolute_error(y_test, y_chr_bolt_tiny)\n",
    "da_chr_bolt_tiny = (np.sign(y_test) == np.sign(y_chr_bolt_tiny)).mean()\n",
    "\n",
    "# Chronos-Bolt-Mini\n",
    "r2_chr_bolt_mini  = r2(y_test, y_chr_bolt_mini)\n",
    "mse_chr_bolt_mini = mean_squared_error(y_test, y_chr_bolt_mini)\n",
    "mae_chr_bolt_mini = mean_absolute_error(y_test, y_chr_bolt_mini)\n",
    "da_chr_bolt_mini = (np.sign(y_test) == np.sign(y_chr_bolt_mini)).mean()\n",
    "\n",
    "# Chronos-Bolt-Small\n",
    "r2_chr_bolt_small  = r2(y_test, y_chr_bolt_small)\n",
    "mse_chr_bolt_small = mean_squared_error(y_test, y_chr_bolt_small)\n",
    "mae_chr_bolt_small = mean_absolute_error(y_test, y_chr_bolt_small)\n",
    "da_chr_bolt_small = (np.sign(y_test) == np.sign(y_chr_bolt_small)).mean()\n",
    "\n",
    "# Chronos-Bolt-Base\n",
    "r2_chr_bolt_base  = r2(y_test, y_chr_bolt_base)\n",
    "mse_chr_bolt_base = mean_squared_error(y_test, y_chr_bolt_base)\n",
    "mae_chr_bolt_base = mean_absolute_error(y_test, y_chr_bolt_base)\n",
    "da_chr_bolt_base = (np.sign(y_test) == np.sign(y_chr_bolt_base)).mean()\n",
    "\n",
    "# Chronos-T5-Tiny\n",
    "r2_chr_t5_tiny  = r2(y_test, y_chr_t5_tiny)\n",
    "mse_chr_t5_tiny = mean_squared_error(y_test, y_chr_t5_tiny)\n",
    "mae_chr_t5_tiny = mean_absolute_error(y_test, y_chr_t5_tiny)\n",
    "da_chr_t5_tiny = (np.sign(y_test) == np.sign(y_chr_t5_tiny)).mean()\n",
    "\n",
    "# Chronos-T5-Mini\n",
    "r2_chr_t5_mini  = r2(y_test, y_chr_t5_mini)\n",
    "mse_chr_t5_mini = mean_squared_error(y_test, y_chr_t5_mini)\n",
    "mae_chr_t5_mini = mean_absolute_error(y_test, y_chr_t5_mini)\n",
    "da_chr_t5_mini = (np.sign(y_test) == np.sign(y_chr_t5_mini)).mean()\n",
    "\n",
    "# Chronos-T5-Small\n",
    "r2_chr_t5_small  = r2(y_test, y_chr_t5_small)\n",
    "mse_chr_t5_small = mean_squared_error(y_test, y_chr_t5_small)\n",
    "mae_chr_t5_small = mean_absolute_error(y_test, y_chr_t5_small)\n",
    "da_chr_t5_small = (np.sign(y_test) == np.sign(y_chr_t5_small)).mean()"
   ]
  },
  {
   "cell_type": "code",
   "execution_count": null,
   "id": "ebf5119b",
   "metadata": {},
   "outputs": [],
   "source": [
    "# Collating Results\n",
    "\n",
    "results_matrix = [{\n",
    "        \"Model\": \"Chronos-Bolt-Tiny\",\n",
    "        \"R-squared\": r2_chr_bolt_tiny,\n",
    "        \"MSE\": mse_chr_bolt_tiny,\n",
    "        \"MAE\": mae_chr_bolt_tiny,\n",
    "        \"Direction Accuracy\": da_chr_bolt_tiny\n",
    "    },\n",
    "    {\n",
    "        \"Model\": \"Chronos-Bolt-Mini\",\n",
    "        \"R-squared\": r2_chr_bolt_mini,\n",
    "        \"MSE\": mse_chr_bolt_mini,\n",
    "        \"MAE\": mae_chr_bolt_mini,\n",
    "        \"Direction Accuracy\": da_chr_bolt_mini\n",
    "    },\n",
    "    {\n",
    "        \"Model\": \"Chronos-Bolt-Small\",\n",
    "        \"R-squared\": r2_chr_bolt_small,\n",
    "        \"MSE\": mse_chr_bolt_small,\n",
    "        \"MAE\": mae_chr_bolt_small,\n",
    "        \"Direction Accuracy\": da_chr_bolt_small\n",
    "    },\n",
    "    {\n",
    "        \"Model\": \"Chronos-Bolt-Base\",\n",
    "        \"R-squared\": r2_chr_bolt_base,\n",
    "        \"MSE\": mse_chr_bolt_base,\n",
    "        \"MAE\": mae_chr_bolt_base,\n",
    "        \"Direction Accuracy\": da_chr_bolt_base\n",
    "    },\n",
    "    {\n",
    "        \"Model\": \"Chronos-T5-Tiny\",\n",
    "        \"R-squared\": r2_chr_t5_tiny,\n",
    "        \"MSE\": mse_chr_t5_tiny,\n",
    "        \"MAE\": mae_chr_t5_tiny,\n",
    "        \"Direction Accuracy\": da_chr_t5_tiny\n",
    "    },\n",
    "    {\n",
    "        \"Model\": \"Chronos-T5-Mini\",\n",
    "        \"R-squared\": r2_chr_t5_mini,\n",
    "        \"MSE\": mse_chr_t5_mini,\n",
    "        \"MAE\": mae_chr_t5_mini,\n",
    "        \"Direction Accuracy\": da_chr_t5_mini\n",
    "    },\n",
    "    {\n",
    "        \"Model\": \"Chronos-T5-Small\",\n",
    "        \"R-squared\": r2_chr_t5_small,\n",
    "        \"MSE\": mse_chr_t5_small,\n",
    "        \"MAE\": mae_chr_t5_small,\n",
    "        \"Direction Accuracy\": da_chr_t5_small\n",
    "    }]\n",
    "\n",
    "results_matrix_df = pd.DataFrame(results_matrix)\n",
    "results_matrix_df"
   ]
  },
  {
   "cell_type": "markdown",
   "id": "7a1f6ff9",
   "metadata": {},
   "source": [
    "##### Save Results"
   ]
  },
  {
   "cell_type": "code",
   "execution_count": null,
   "id": "61553e2d",
   "metadata": {},
   "outputs": [],
   "source": [
    "# Save Prediction Results\n",
    "results.to_csv(results_path, index=False)"
   ]
  },
  {
   "cell_type": "code",
   "execution_count": null,
   "id": "a56d96d3",
   "metadata": {},
   "outputs": [],
   "source": []
  }
 ],
 "metadata": {
  "kernelspec": {
   "display_name": "erp_env",
   "language": "python",
   "name": "python3"
  },
  "language_info": {
   "codemirror_mode": {
    "name": "ipython",
    "version": 3
   },
   "file_extension": ".py",
   "mimetype": "text/x-python",
   "name": "python",
   "nbconvert_exporter": "python",
   "pygments_lexer": "ipython3",
   "version": "3.10.18"
  }
 },
 "nbformat": 4,
 "nbformat_minor": 5
}
