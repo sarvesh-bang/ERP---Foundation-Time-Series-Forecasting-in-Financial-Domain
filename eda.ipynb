{
 "cells": [
  {
   "cell_type": "code",
   "execution_count": null,
   "id": "b4b228a9",
   "metadata": {},
   "outputs": [],
   "source": [
    "# Import required libraries\n",
    "import pandas as pd\n",
    "import os"
   ]
  },
  {
   "cell_type": "code",
   "execution_count": null,
   "id": "71bb5183",
   "metadata": {},
   "outputs": [],
   "source": [
    "# Parameters and Settings\n",
    "DATE_COL = 'Date'\n",
    "ID_COL = 'PERMNO'\n",
    "TARGET_COL = 'excess_return'\n",
    "\n",
    "# File path for the cleaned and filtered data\n",
    "current_directory = os.getcwd()\n",
    "clean_filtered_data_file = os.path.join(current_directory, 'Data', 'clean_filtered_data.csv')\n",
    "\n",
    "# File path to save descriptive statistics for excess return\n",
    "overall_stats_path = os.path.join(current_directory, 'Results', 'overall_stats.csv')\n",
    "\n",
    "# Estimation (in sample) period dates\n",
    "in_sample_start_date = pd.to_datetime(\"2000-01-01\")\n",
    "in_sample_end_date = pd.to_datetime(\"2015-12-31\")\n",
    "\n",
    "# Out-of-sample period dates\n",
    "out_sample_start_date = pd.to_datetime(\"2016-01-01\")\n",
    "out_sample_end_date = pd.to_datetime(\"2024-12-31\")"
   ]
  },
  {
   "cell_type": "markdown",
   "id": "83af147a",
   "metadata": {},
   "source": [
    "### Step 1: Load Cleaned and Filtered Data"
   ]
  },
  {
   "cell_type": "code",
   "execution_count": null,
   "id": "bd322b02",
   "metadata": {},
   "outputs": [],
   "source": [
    "# Load the cleaned and filtered data files for in sample and out of sample periods into a pandas DataFrames (output from ETL step)\n",
    "df = pd.read_csv(clean_filtered_data_file, index_col=0)\n",
    "\n",
    "# Ensure the date columns are in datetime format\n",
    "df[DATE_COL] = pd.to_datetime(df[DATE_COL])\n",
    "\n",
    "print(df.info())"
   ]
  },
  {
   "cell_type": "markdown",
   "id": "f5282a46",
   "metadata": {},
   "source": [
    "### Step 2: Compute Descriptive Statistics"
   ]
  },
  {
   "cell_type": "code",
   "execution_count": null,
   "id": "f32d497f",
   "metadata": {},
   "outputs": [],
   "source": [
    "# Check number of unique stocks\n",
    "stocks_permno = df[ID_COL].unique().tolist()\n",
    "print(f\"Number of unique stocks: {len(stocks_permno)}\")"
   ]
  },
  {
   "cell_type": "code",
   "execution_count": null,
   "id": "9c33724e",
   "metadata": {},
   "outputs": [],
   "source": [
    "# Create function to compute descriptive statistics for daily excess returns\n",
    "\n",
    "def compute_descriptive_statistics(df, start_date, end_date, date_col=DATE_COL, column_name=TARGET_COL, stock_identifier=ID_COL, stock_name=\"SecurityNm\", ticker=\"Ticker\"):\n",
    "    # Filter by period\n",
    "    df_period = df[(df[date_col] >= start_date) & (df[date_col] <= end_date)]\n",
    "\n",
    "    # Group by stock and compute stats:\n",
    "    stats_list = []\n",
    "    for permno, grp in df_period.groupby(stock_identifier):\n",
    "        col = grp[column_name]\n",
    "        sm = grp[stock_name].iloc[0]\n",
    "        stats = {\n",
    "            stock_identifier: permno,\n",
    "            ticker: grp[ticker].iloc[0],\n",
    "            stock_name: sm.split(\";\")[0],\n",
    "            \"mean\": col.mean(),\n",
    "            \"median\": col.median(),\n",
    "            \"std\": col.std(),\n",
    "            \"min\": col.min(),\n",
    "            \"max\": col.max(),\n",
    "            \"skew\": col.skew(),\n",
    "            \"kurtosis\": col.kurtosis()\n",
    "        }\n",
    "        stats_list.append(stats)\n",
    "    \n",
    "    stats_df = pd.DataFrame(stats_list)\n",
    "    \n",
    "    return stats_df"
   ]
  },
  {
   "cell_type": "code",
   "execution_count": null,
   "id": "020ac4e7",
   "metadata": {},
   "outputs": [],
   "source": [
    "# Calculate and print descriptive statistics for each stock during in-sample period\n",
    "in_sample_stats = compute_descriptive_statistics(df, start_date=in_sample_start_date, end_date=in_sample_end_date)\n",
    "print(\"Descriptive Statisctics for Estimation Period (In-Sample):\")\n",
    "in_sample_stats"
   ]
  },
  {
   "cell_type": "code",
   "execution_count": null,
   "id": "cee598f4",
   "metadata": {},
   "outputs": [],
   "source": [
    "# Identify stocks with outlier data (i.e., returns >= 100% or returns <= -100%)\n",
    "print(\"Stock with outlier data:\")\n",
    "print(in_sample_stats[(in_sample_stats[max]>=1) | (in_sample_stats[min]<=-1)][ID_COL].to_list())"
   ]
  },
  {
   "cell_type": "code",
   "execution_count": null,
   "id": "89d0d879",
   "metadata": {},
   "outputs": [],
   "source": [
    "# Calculate and print descriptive statistics for each stock during out-of-sample period\n",
    "out_of_sample_stats = compute_descriptive_statistics(df, start_date=out_sample_start_date, end_date=out_sample_end_date)\n",
    "print(\"Descriptive Statisctics for Out of Sample Period:\")\n",
    "out_of_sample_stats"
   ]
  },
  {
   "cell_type": "code",
   "execution_count": null,
   "id": "d3f3e626",
   "metadata": {},
   "outputs": [],
   "source": [
    "# Identify stocks with outlier data (i.e., returns >= 100% or returns <= -100%)\n",
    "print(\"Stock with outlier data:\")\n",
    "print(out_of_sample_stats[(out_of_sample_stats[max]>=1) | (out_of_sample_stats[min]<=-1)][ID_COL].to_list())"
   ]
  },
  {
   "cell_type": "code",
   "execution_count": null,
   "id": "5896b69f",
   "metadata": {},
   "outputs": [],
   "source": [
    "# Calculate and print descriptive statistics for all stocks together during in-sample and out-of-sample period\n",
    "overall_stats = []\n",
    "\n",
    "df_in_sample = df[(df[DATE_COL] >= in_sample_start_date) & (df[DATE_COL] <= in_sample_end_date)]\n",
    "df_out_of_sample = df[(df[DATE_COL] >= out_sample_start_date) & (df[DATE_COL] <= out_sample_end_date)]\n",
    "\n",
    "overall_stats.append({\"\": \"Mean\", \"In-Sample\": df_in_sample[TARGET_COL].mean(), \"Out-of-Sample\": df_out_of_sample[TARGET_COL].mean()})\n",
    "overall_stats.append({\"\": \"Median\", \"In-Sample\": df_in_sample[TARGET_COL].median(), \"Out-of-Sample\": df_out_of_sample[TARGET_COL].median()})\n",
    "overall_stats.append({\"\": \"Std\", \"In-Sample\": df_in_sample[TARGET_COL].std(), \"Out-of-Sample\": df_out_of_sample[TARGET_COL].std()})\n",
    "overall_stats.append({\"\": \"Min\", \"In-Sample\": df_in_sample[TARGET_COL].min(), \"Out-of-Sample\": df_out_of_sample[TARGET_COL].min()})\n",
    "overall_stats.append({\"\": \"Max\", \"In-Sample\": df_in_sample[TARGET_COL].max(), \"Out-of-Sample\": df_out_of_sample[TARGET_COL].max()})\n",
    "overall_stats.append({\"\": \"Skew\", \"In-Sample\": df_in_sample[TARGET_COL].skew(), \"Out-of-Sample\": df_out_of_sample[TARGET_COL].skew()})\n",
    "overall_stats.append({\"\": \"Kurtosis\", \"In-Sample\": df_in_sample[TARGET_COL].kurtosis(), \"Out-of-Sample\": df_out_of_sample[TARGET_COL].kurtosis()})\n",
    "\n",
    "overall_stats_df = pd.DataFrame(overall_stats)\n",
    "overall_stats_df"
   ]
  },
  {
   "cell_type": "markdown",
   "id": "d140470e",
   "metadata": {},
   "source": [
    "##### Save Results"
   ]
  },
  {
   "cell_type": "code",
   "execution_count": null,
   "id": "279f1866",
   "metadata": {},
   "outputs": [],
   "source": [
    "# Save descriptive statistics for excess return\n",
    "overall_stats_df.to_csv(overall_stats_path, index=False)"
   ]
  },
  {
   "cell_type": "code",
   "execution_count": null,
   "id": "7e377eb9",
   "metadata": {},
   "outputs": [],
   "source": []
  }
 ],
 "metadata": {
  "kernelspec": {
   "display_name": "base",
   "language": "python",
   "name": "python3"
  },
  "language_info": {
   "codemirror_mode": {
    "name": "ipython",
    "version": 3
   },
   "file_extension": ".py",
   "mimetype": "text/x-python",
   "name": "python",
   "nbconvert_exporter": "python",
   "pygments_lexer": "ipython3",
   "version": "3.12.3"
  }
 },
 "nbformat": 4,
 "nbformat_minor": 5
}
