{
 "cells": [
  {
   "cell_type": "code",
   "execution_count": null,
   "id": "74c0fdb9",
   "metadata": {},
   "outputs": [],
   "source": [
    "# Import required libraries\n",
    "import pandas as pd\n",
    "import matplotlib.pyplot as plt\n",
    "import seaborn as sns\n",
    "import os\n",
    "\n",
    "sns.set_style('whitegrid')\n",
    "\n",
    "%matplotlib inline"
   ]
  },
  {
   "cell_type": "code",
   "execution_count": null,
   "id": "dcd03aac",
   "metadata": {},
   "outputs": [],
   "source": [
    "# Parameters and File Paths\n",
    "\n",
    "# Parameters for data\n",
    "WINDOW = 21     # rolling window size to use as predictors\n",
    "DATE_COL = \"Date\"\n",
    "\n",
    "# File path for the equal and value weighted bottom-up portfolio evaluation results\n",
    "current_directory = os.getcwd()\n",
    "bu_equal_portfolio_evaluation_path = os.path.join(current_directory, 'Results', f'bu_equal_portfolio_evaluation{WINDOW:.0f}.csv')\n",
    "bu_value_portfolio_evaluation_path = os.path.join(current_directory, 'Results', f'bu_value_portfolio_evaluation{WINDOW:.0f}.csv')\n",
    "\n",
    "# File path for the equal and value weighted bottom-up portfolio results\n",
    "bu_equal_portfolio_results_path = os.path.join(current_directory, 'Results', f'bu_equal_portfolio_results{WINDOW:.0f}.csv')\n",
    "bu_value_portfolio_results_path = os.path.join(current_directory, 'Results', f'bu_value_portfolio_results{WINDOW:.0f}.csv')\n",
    "\n",
    "# File path for the equal and value weighted ML-based long-short portfolio results\n",
    "ml_equal_portfolio_results_path = os.path.join(current_directory, 'Results', f'ml_equal_portfolio_results{WINDOW:.0f}.csv')\n",
    "ml_value_portfolio_results_path = os.path.join(current_directory, 'Results', f'ml_value_portfolio_results{WINDOW:.0f}.csv')\n",
    "\n",
    "# File path to save evaluation metrics graphs for equal and value weighted bottom-up portfolio\n",
    "equal_bu_evaluation_graph_path = os.path.join(current_directory, 'Results', 'Graphs', f'equal_bu_evaluation_graph{WINDOW:.0f}.png')\n",
    "value_bu_evaluation_graph_path = os.path.join(current_directory, 'Results', 'Graphs', f'value_bu_evaluation_graph{WINDOW:.0f}.png')\n",
    "\n",
    "# File path to save cumulative growth graph for ML-based equal and value weighted long-short portfolio\n",
    "equal_cumulative_growth_graph_path = os.path.join(current_directory, 'Results', 'Graphs', f'equal_cumulative_growth_graph{WINDOW:.0f}.png')\n",
    "value_cumulative_growth_graph_path = os.path.join(current_directory, 'Results', 'Graphs', f'value_cumulative_growth_graph{WINDOW:.0f}.png')"
   ]
  },
  {
   "cell_type": "code",
   "execution_count": null,
   "id": "c39e4fa9",
   "metadata": {},
   "outputs": [],
   "source": [
    "# Dictionary for model names\n",
    "models_dict = {\"r_bu_portfolio\": \"Bottom-up\",\n",
    "               \"r_ols\": \"OLS\",\n",
    "               \"r_lasso\": \"Lasso\",\n",
    "               \"r_ridge\": \"Ridge\",\n",
    "               \"r_enet\": \"Elastic Net\",\n",
    "               \"r_rf\": \"RF\",\n",
    "               \"r_xgb\": \"XGB\",\n",
    "               \"r_nn1\": \"NN1\",\n",
    "               \"r_nn2\": \"NN2\",\n",
    "               \"r_nn3\": \"NN3\",\n",
    "               \"r_nn4\": \"NN4\",\n",
    "               \"r_nn5\": \"NN5\",\n",
    "               \"r_tfm1\": \"TimesFM 1.0\",\n",
    "               \"r_tfm2\": \"TimesFM 2.0\",\n",
    "               \"r_chr_bolt_tiny\": \"Chronos-Bolt-Tiny\",\n",
    "               \"r_chr_bolt_mini\": \"Chronos-Bolt-Mini\",\n",
    "               \"r_chr_bolt_small\": \"Chronos-Bolt-Small\",\n",
    "               \"r_chr_bolt_base\": \"Chronos-Bolt-Base\",\n",
    "               \"r_chr_t5_tiny\": \"Chronos-T5-Tiny\",\n",
    "               \"r_chr_t5_mini\": \"Chronos-T5-Mini\",\n",
    "               \"r_chr_t5_small\": \"Chronos-T5-Small\",\n",
    "               \"r_moirai_s\": \"Moirai-Small\",\n",
    "               \"r_moirai_moe_s\": \"Moirai-MoE-Small\",\n",
    "               \"r_moirai_moe_b\": \"Moirai-MoE-Base\"\n",
    "               }\n",
    "\n",
    "# Dictionary for model type\n",
    "model_type = {\"Linear\": [\"OLS\", \"Lasso\", \"Ridge\", \"Elastic Net\"],\n",
    "              \"Non-Linear\": [\"RF\", \"XGB\"],\n",
    "              \"Neural Network\": [\"NN1\", \"NN2\", \"NN3\", \"NN4\", \"NN5\"],\n",
    "              \"TimesFM\": [\"TimesFM 1.0\", \"TimesFM 2.0\"],\n",
    "              \"Chronos-Bolt\": [\"Chronos-Bolt-Tiny\", \"Chronos-Bolt-Mini\", \"Chronos-Bolt-Small\", \"Chronos-Bolt-Base\"],\n",
    "              \"Chronos-T5\": [\"Chronos-T5-Tiny\", \"Chronos-T5-Mini\", \"Chronos-T5-Small\"],\n",
    "              \"Moirai\": [\"Moirai-Small\"],\n",
    "              \"Moirai-MoE\": [\"Moirai-MoE-Small\", \"Moirai-MoE-Base\"]\n",
    "              }"
   ]
  },
  {
   "cell_type": "code",
   "execution_count": null,
   "id": "b2f10646",
   "metadata": {},
   "outputs": [],
   "source": [
    "# Colour Map\n",
    "palette = {\"Bottom-up\": \"black\",\n",
    "           \"Linear\": \"orange\",\n",
    "           \"Non-Linear\": \"red\",\n",
    "           \"Neural Network\": \"green\",\n",
    "           \"TimesFM\": \"brown\",\n",
    "           \"Chronos-Bolt\": \"blue\",\n",
    "           \"Chronos-T5\": \"darkblue\",\n",
    "           \"Moirai\": \"purple\",\n",
    "           \"Moirai-MoE\": \"deeppink\"\n",
    "           }"
   ]
  },
  {
   "cell_type": "markdown",
   "id": "3a24b28b",
   "metadata": {},
   "source": [
    "### Load Data for Visualizations"
   ]
  },
  {
   "cell_type": "code",
   "execution_count": null,
   "id": "1b82401d",
   "metadata": {},
   "outputs": [],
   "source": [
    "# Load the evaluation results for equal and value weighted bottom-up portfolios\n",
    "bu_equal_portfolio_evaluation_df = pd.read_csv(bu_equal_portfolio_evaluation_path)\n",
    "bu_value_portfolio_evaluation_df = pd.read_csv(bu_value_portfolio_evaluation_path)\n",
    "\n",
    "# Load the results for equal and value weighted bottom-up portfolios\n",
    "bu_equal_portfolio_results_df = pd.read_csv(bu_equal_portfolio_results_path, parse_dates=[DATE_COL], index_col=DATE_COL)\n",
    "bu_value_portfolio_results_df = pd.read_csv(bu_value_portfolio_results_path, parse_dates=[DATE_COL], index_col=DATE_COL)\n",
    "\n",
    "# Load the results for equal and value weighted ML-based portfolios\n",
    "ml_equal_portfolio_results_df = pd.read_csv(ml_equal_portfolio_results_path, parse_dates=[DATE_COL], index_col=DATE_COL)\n",
    "ml_value_portfolio_results_df = pd.read_csv(ml_value_portfolio_results_path, parse_dates=[DATE_COL], index_col=DATE_COL)"
   ]
  },
  {
   "cell_type": "markdown",
   "id": "0482dbbe",
   "metadata": {},
   "source": [
    "### Plot Economic Evaluation for Bottom-Up Portfolios"
   ]
  },
  {
   "cell_type": "code",
   "execution_count": null,
   "id": "bb4ac92d",
   "metadata": {},
   "outputs": [],
   "source": [
    "# Add Aodel Type to Bottom-Up Portfolio Evalution Results\n",
    "def get_model_type(model):\n",
    "    for k, v in model_type.items():\n",
    "        if model in v:\n",
    "            return k\n",
    "\n",
    "bu_equal_portfolio_evaluation_df[\"Model Type\"] = bu_equal_portfolio_evaluation_df[\"Model\"].apply(get_model_type)\n",
    "bu_value_portfolio_evaluation_df[\"Model Type\"] = bu_value_portfolio_evaluation_df[\"Model\"].apply(get_model_type)"
   ]
  },
  {
   "cell_type": "code",
   "execution_count": null,
   "id": "21abfe54",
   "metadata": {},
   "outputs": [],
   "source": [
    "# Convert directional accuracy from Percentage to Decimal format and calculate deviation from chance (50%)\n",
    "bu_equal_portfolio_evaluation_df[\"DA (Equal)\"] = bu_equal_portfolio_evaluation_df[\"DA (Equal)\"] / 100\n",
    "bu_equal_portfolio_evaluation_df[\"DA_Centered\"] = bu_equal_portfolio_evaluation_df[\"DA (Equal)\"] - 0.5\n",
    "bu_value_portfolio_evaluation_df[\"DA (Value)\"] = bu_value_portfolio_evaluation_df[\"DA (Value)\"] / 100\n",
    "bu_value_portfolio_evaluation_df[\"DA_Centered\"] = bu_value_portfolio_evaluation_df[\"DA (Value)\"] - 0.5"
   ]
  },
  {
   "cell_type": "code",
   "execution_count": null,
   "id": "ff82e595",
   "metadata": {},
   "outputs": [],
   "source": [
    "# Plot Evaluation Metrics for Equal-Weighted Bottom-Up Portfolio\n",
    "fig, (ax1, ax2) = plt.subplots(2, 1, figsize=(12, 12), sharex=True)\n",
    "\n",
    "sns.barplot(data=bu_equal_portfolio_evaluation_df, x=\"Model\", y=\"R2 (Equal)\", hue=\"Model Type\", palette=palette, dodge=False, ax=ax1)\n",
    "ax1.set_title(\"Bottom-up Portfolio: R²\")\n",
    "ax1.set_ylabel(\"R² (log scale)\")\n",
    "ax1.set_yscale(\"symlog\")\n",
    "ax1.tick_params(axis='x', rotation=60)\n",
    "ax1.legend_.remove()\n",
    "\n",
    "sns.barplot(data=bu_equal_portfolio_evaluation_df, x=\"Model\", y=\"DA_Centered\", hue=\"Model Type\", palette=palette, dodge=False, ax=ax2)\n",
    "ax2.axhline(0, color=\"black\", linestyle=\"--\", linewidth=1)\n",
    "ax2.set_title(\"Bottom-up Portfolio: Directional Accuracy (DA) - Deviation from 50%\")\n",
    "ax2.set_ylabel(\"Δ DA (%)\")\n",
    "ax2.yaxis.set_major_formatter(lambda y, _: f\"{y:.0%}\")\n",
    "ax2.tick_params(axis='x', rotation=60)\n",
    "ax2.legend_.remove()\n",
    "\n",
    "plt.tight_layout()\n",
    "plt.savefig(equal_bu_evaluation_graph_path, dpi=800, bbox_inches=\"tight\")\n",
    "plt.show()"
   ]
  },
  {
   "cell_type": "code",
   "execution_count": null,
   "id": "52c89c55",
   "metadata": {},
   "outputs": [],
   "source": [
    "# Plot Evaluation Metrics for Value-Weighted Bottom-Up Portfolio\n",
    "fig, (ax1, ax2) = plt.subplots(2, 1, figsize=(12, 12), sharex=True)\n",
    "\n",
    "sns.barplot(data=bu_value_portfolio_evaluation_df, x=\"Model\", y=\"R2 (Value)\", hue=\"Model Type\", palette=palette, dodge=False, ax=ax1)\n",
    "ax1.set_title(\"Bottom-up Portfolio: R²\")\n",
    "ax1.set_ylabel(\"R² (log scale)\")\n",
    "ax1.set_yscale(\"symlog\")\n",
    "ax1.tick_params(axis='x', rotation=60)\n",
    "ax1.legend_.remove()\n",
    "\n",
    "sns.barplot(data=bu_value_portfolio_evaluation_df, x=\"Model\", y=\"DA_Centered\", hue=\"Model Type\", palette=palette, dodge=False, ax=ax2)\n",
    "ax2.axhline(0, color=\"black\", linestyle=\"--\", linewidth=1)\n",
    "ax2.set_title(\"Bottom-up Portfolio: Directional Accuracy (DA) - Deviation from 50%\")\n",
    "ax2.set_ylabel(\"Δ DA (%)\")\n",
    "ax2.yaxis.set_major_formatter(lambda y, _: f\"{y:.0%}\")\n",
    "ax2.tick_params(axis='x', rotation=60)\n",
    "ax2.legend_.remove()\n",
    "\n",
    "plt.tight_layout()\n",
    "plt.savefig(value_bu_evaluation_graph_path, dpi=800, bbox_inches=\"tight\")\n",
    "plt.show()"
   ]
  },
  {
   "cell_type": "markdown",
   "id": "1bd84f49",
   "metadata": {},
   "source": [
    "### Plot Economic Evaluation for Long-Short Portfolios"
   ]
  },
  {
   "cell_type": "code",
   "execution_count": null,
   "id": "c212a4c6",
   "metadata": {},
   "outputs": [],
   "source": [
    "# Combine Bottom-Up Portfolio Returns with Long-Short Portfolio Returns to Provide Baseline\n",
    "ml_ep_results_df = ml_equal_portfolio_results_df.merge(bu_equal_portfolio_results_df[\"r_bu_portfolio\"], how=\"left\", on=DATE_COL).rename(columns=models_dict)\n",
    "ml_vp_results_df = ml_value_portfolio_results_df.merge(bu_value_portfolio_results_df[\"r_bu_portfolio\"], how=\"left\", on=DATE_COL).rename(columns=models_dict)"
   ]
  },
  {
   "cell_type": "code",
   "execution_count": null,
   "id": "e342f160",
   "metadata": {},
   "outputs": [],
   "source": [
    "# Set Colour Map for Bottom-Up Portfolio\n",
    "ml_ep_selected = [\"Bottom-up\"]\n",
    "ml_ep_palette = {\"Bottom-up\": palette[\"Bottom-up\"]}\n",
    "for type, models in model_type.items():\n",
    "    cum_rets = (1 + ml_ep_results_df[models]).prod() - 1\n",
    "    best_model = cum_rets.idxmax()\n",
    "    ml_ep_selected.append(best_model)\n",
    "    ml_ep_palette[best_model] = palette[type]\n",
    "\n",
    "ml_vp_selected = [\"Bottom-up\"]\n",
    "ml_vp_palette = {\"Bottom-up\": palette[\"Bottom-up\"]}\n",
    "for type, models in model_type.items():\n",
    "    cum_rets = (1 + ml_vp_results_df[models]).prod() - 1\n",
    "    best_model = cum_rets.idxmax()\n",
    "    ml_vp_selected.append(best_model)\n",
    "    ml_vp_palette[best_model] = palette[type]"
   ]
  },
  {
   "cell_type": "code",
   "execution_count": null,
   "id": "5b4dd380",
   "metadata": {},
   "outputs": [],
   "source": [
    "# Calculate Cummulative Growth\n",
    "ml_equal_portfolio_cum_growth = (1 + ml_ep_results_df[ml_ep_selected]).cumprod() - 1\n",
    "ml_value_portfolio_cum_growth = (1 + ml_vp_results_df[ml_vp_selected]).cumprod() - 1"
   ]
  },
  {
   "cell_type": "code",
   "execution_count": null,
   "id": "19313126",
   "metadata": {},
   "outputs": [],
   "source": [
    "ml_ep_cum_growth_plot_df = ml_equal_portfolio_cum_growth.reset_index().melt(id_vars=\"Date\", var_name=\"Model\", value_name=\"Growth\")\n",
    "ml_vp_cum_growth_plot_df = ml_value_portfolio_cum_growth.reset_index().melt(id_vars=\"Date\", var_name=\"Model\", value_name=\"Growth\")"
   ]
  },
  {
   "cell_type": "code",
   "execution_count": null,
   "id": "b2cf6993",
   "metadata": {},
   "outputs": [],
   "source": [
    "# Plot Compounded Return for Top Model in Each Model Type Based on CAGR for Equal-Weighted Long-Short Portfolios\n",
    "plt.figure(figsize=(12,8))\n",
    "ax = sns.lineplot(data=ml_ep_cum_growth_plot_df, x=\"Date\", y=\"Growth\", hue=\"Model\", linewidth=0.9, palette=ml_ep_palette)\n",
    "plt.axhline(0, color=\"grey\", linestyle=\"--\", linewidth=1.2)\n",
    "ax.set_title(\"Compounded Return (Growth)\")\n",
    "ax.set_xlabel(\"Date\")\n",
    "ax.set_xlim(pd.to_datetime(\"2015-12-31\"), pd.to_datetime(\"2025-01-01\"))\n",
    "ax.set_ylabel(\"Growth\")\n",
    "ax.set_ylim(-2, 16)\n",
    "ax.legend(title=\"Model\", bbox_to_anchor=(0.99, 0.99), loc=\"upper right\", borderaxespad=0)\n",
    "\n",
    "plt.tight_layout()\n",
    "plt.savefig(equal_cumulative_growth_graph_path, dpi=800, bbox_inches=\"tight\")\n",
    "plt.show()"
   ]
  },
  {
   "cell_type": "code",
   "execution_count": null,
   "id": "3afbd971",
   "metadata": {},
   "outputs": [],
   "source": [
    "# Plot Compounded Return for Top Model in Each Model Type Based on CAGR for Value-Weighted Long-Short Portfolios\n",
    "plt.figure(figsize=(12,8))\n",
    "ax = sns.lineplot(data=ml_vp_cum_growth_plot_df, x=\"Date\", y=\"Growth\", hue=\"Model\", linewidth=0.9, palette=ml_vp_palette)\n",
    "plt.axhline(0, color=\"grey\", linestyle=\"--\", linewidth=1.2)\n",
    "ax.set_title(\"Compounded Return (Growth)\")\n",
    "ax.set_xlabel(\"Date\")\n",
    "ax.set_xlim(pd.to_datetime(\"2015-12-31\"), pd.to_datetime(\"2025-01-01\"))\n",
    "ax.set_ylabel(\"Growth\")\n",
    "ax.set_ylim(-2, 20)\n",
    "ax.legend(title=\"Model\", bbox_to_anchor=(0.99, 0.99), loc=\"upper right\", borderaxespad=0)\n",
    "\n",
    "plt.tight_layout()\n",
    "plt.savefig(value_cumulative_growth_graph_path, dpi=800, bbox_inches=\"tight\")\n",
    "plt.show()"
   ]
  },
  {
   "cell_type": "code",
   "execution_count": null,
   "id": "7fd23f81",
   "metadata": {},
   "outputs": [],
   "source": []
  }
 ],
 "metadata": {
  "kernelspec": {
   "display_name": "base",
   "language": "python",
   "name": "python3"
  },
  "language_info": {
   "codemirror_mode": {
    "name": "ipython",
    "version": 3
   },
   "file_extension": ".py",
   "mimetype": "text/x-python",
   "name": "python",
   "nbconvert_exporter": "python",
   "pygments_lexer": "ipython3",
   "version": "3.12.3"
  }
 },
 "nbformat": 4,
 "nbformat_minor": 5
}
