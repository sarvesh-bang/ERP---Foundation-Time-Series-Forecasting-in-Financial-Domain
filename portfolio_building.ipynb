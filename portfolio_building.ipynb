{
 "cells": [
  {
   "cell_type": "code",
   "execution_count": null,
   "id": "100c1242",
   "metadata": {},
   "outputs": [],
   "source": [
    "# Import required libraries\n",
    "import pandas as pd\n",
    "import os"
   ]
  },
  {
   "cell_type": "code",
   "execution_count": null,
   "id": "f95e8bc4",
   "metadata": {},
   "outputs": [],
   "source": [
    "# Parameters and File Paths\n",
    "\n",
    "# Parameters for data\n",
    "WINDOW = 21     # rolling window size to use as predictors\n",
    "DATE_COL = 'Date'\n",
    "ID_COL = 'PERMNO'\n",
    "TARGET_COL = 'excess_return'\n",
    "WEIGHTS_COL = 'avg_market_cap'\n",
    "\n",
    "# File path to load additional information for stocks\n",
    "current_directory = os.getcwd()\n",
    "top50_stocks_info_path = os.path.join(current_directory, 'Data', 'top50_stocks_info.csv')\n",
    "\n",
    "# File path for the merged prediction results of various models\n",
    "merged_results_path = os.path.join(current_directory, 'Results', f'merged_results{WINDOW:.0f}.csv')\n",
    "\n",
    "# File path to save equal weighted portfolio results\n",
    "bu_equal_portfolio_results_path = os.path.join(current_directory, 'Results', f'bu_equal_portfolio_results{WINDOW:.0f}.csv')\n",
    "ml_equal_portfolio_results_path = os.path.join(current_directory, 'Results', f'ml_equal_portfolio_results{WINDOW:.0f}.csv')\n",
    "\n",
    "# File path to save value weighted portfolio results\n",
    "bu_value_portfolio_results_path = os.path.join(current_directory, 'Results', f'bu_value_portfolio_results{WINDOW:.0f}.csv')\n",
    "ml_value_portfolio_results_path = os.path.join(current_directory, 'Results', f'ml_value_portfolio_results{WINDOW:.0f}.csv')"
   ]
  },
  {
   "cell_type": "code",
   "execution_count": null,
   "id": "edde68a7",
   "metadata": {},
   "outputs": [],
   "source": [
    "# Dictionary for model names\n",
    "models_dict = {\"ols\": \"OLS\",\n",
    "               \"lasso\": \"Lasso\",\n",
    "               \"ridge\": \"Ridge\",\n",
    "               \"enet\": \"Elastic Net\",\n",
    "               \"rf\": \"RF\",\n",
    "               \"xgb\": \"XGB\",\n",
    "               \"nn1\": \"NN1\",\n",
    "               \"nn2\": \"NN2\",\n",
    "               \"nn3\": \"NN3\",\n",
    "               \"nn4\": \"NN4\",\n",
    "               \"nn5\": \"NN5\",\n",
    "               \"tfm1\": \"TimesFM 1.0\",\n",
    "               \"tfm2\": \"TimesFM 2.0\",\n",
    "               \"chr_bolt_tiny\": \"Chronos-Bolt-Tiny\",\n",
    "               \"chr_bolt_mini\": \"Chronos-Bolt-Mini\",\n",
    "               \"chr_bolt_small\": \"Chronos-Bolt-Small\",\n",
    "               \"chr_bolt_base\": \"Chronos-Bolt-Base\",\n",
    "               \"chr_t5_tiny\": \"Chronos-T5-Tiny\",\n",
    "               \"chr_t5_mini\": \"Chronos-T5-Mini\",\n",
    "               \"chr_t5_small\": \"Chronos-T5-Small\",\n",
    "               \"moirai_s\": \"Moirai-Small\",\n",
    "               \"moirai_moe_s\": \"Moirai-MoE-Small\",\n",
    "               \"moirai_moe_b\": \"Moirai-MoE-Base\"\n",
    "               }"
   ]
  },
  {
   "cell_type": "markdown",
   "id": "d5732653",
   "metadata": {},
   "source": [
    "### Step 1: Load Merged Forecast Results"
   ]
  },
  {
   "cell_type": "code",
   "execution_count": null,
   "id": "2eab1e84",
   "metadata": {},
   "outputs": [],
   "source": [
    "# Load the prediction results of various models for out of sample period into a pandas DataFrames\n",
    "results = pd.read_csv(merged_results_path, parse_dates=[DATE_COL])\n",
    "\n",
    "# Merge prediction results with other necessary information required for portfolio building\n",
    "top50_stocks_info = pd.read_csv(top50_stocks_info_path)\n",
    "results = results.merge(top50_stocks_info[[ID_COL, \"Ticker\", \"avg_market_cap\"]], how=\"left\", on=[ID_COL], )\n",
    "\n",
    "results.info()"
   ]
  },
  {
   "cell_type": "markdown",
   "id": "d9d9aa57",
   "metadata": {},
   "source": [
    "### Step 2: Create Bottom-up Portfolios"
   ]
  },
  {
   "cell_type": "code",
   "execution_count": null,
   "id": "14c4bcbc",
   "metadata": {},
   "outputs": [],
   "source": [
    "# Function to Calculate Predictive-R2 Used in the Finance Literature\n",
    "def r2(y_true, y_pred):\n",
    "    return 1-(((y_true-y_pred)**2).sum()/(y_true**2).sum())"
   ]
  },
  {
   "cell_type": "code",
   "execution_count": null,
   "id": "c8abd4e5",
   "metadata": {},
   "outputs": [],
   "source": [
    "# Function to Calculate Expected and Realized Returns for Bottom-up Portfolio-Level Predictions\n",
    "def bottom_up_portfolio(df, date_col, ret_col, new_col_name, weights_col = None):\n",
    "    df = df.copy()\n",
    "    \n",
    "    def portfolio_return(group):\n",
    "        if weights_col == None:\n",
    "            ret = group[ret_col].mean()\n",
    "        else:\n",
    "            group[weights_col] /= group[weights_col].sum()\n",
    "            ret = (group[ret_col] * group[weights_col]).sum()\n",
    "\n",
    "        return ret\n",
    "    \n",
    "    ret = (df.groupby([date_col]).apply(portfolio_return)).reset_index().rename(columns={0:new_col_name})\n",
    "    return ret"
   ]
  },
  {
   "cell_type": "code",
   "execution_count": null,
   "id": "cfcf2deb",
   "metadata": {},
   "outputs": [],
   "source": [
    "# Evaluate Equal Weighted Bottom-up Portfolio Using Various Models\n",
    "bu_equal_portfolio_rets = bottom_up_portfolio(results, DATE_COL, TARGET_COL, \"r_bu_portfolio\")\n",
    "\n",
    "models = [col for col in results.columns.to_list() if col.startswith(\"y_\")]\n",
    "\n",
    "for model in models:\n",
    "    p = bottom_up_portfolio(results, DATE_COL, model, model.replace(\"y_\", \"e_\"))\n",
    "    bu_equal_portfolio_rets = bu_equal_portfolio_rets.merge(p, 'left', DATE_COL)"
   ]
  },
  {
   "cell_type": "code",
   "execution_count": null,
   "id": "13c84e86",
   "metadata": {},
   "outputs": [],
   "source": [
    "# Evaluate Value Weighted Bottom-up Portfolio Using Various Models\n",
    "bu_value_portfolio_rets = bottom_up_portfolio(results, DATE_COL, TARGET_COL, \"r_bu_portfolio\", WEIGHTS_COL)\n",
    "\n",
    "for model in models:\n",
    "    p = bottom_up_portfolio(results, DATE_COL, model, model.replace(\"y_\", \"e_\"), WEIGHTS_COL)\n",
    "    bu_value_portfolio_rets = bu_value_portfolio_rets.merge(p, 'left', DATE_COL)"
   ]
  },
  {
   "cell_type": "markdown",
   "id": "25e38bd5",
   "metadata": {},
   "source": [
    "##### Save Results"
   ]
  },
  {
   "cell_type": "code",
   "execution_count": null,
   "id": "6746b4cd",
   "metadata": {},
   "outputs": [],
   "source": [
    "# Save Equal and Value Weighted Bottom-up Portfolio Results\n",
    "bu_equal_portfolio_rets.to_csv(bu_equal_portfolio_results_path, index=False)\n",
    "bu_value_portfolio_rets.to_csv(bu_value_portfolio_results_path, index=False)"
   ]
  },
  {
   "cell_type": "markdown",
   "id": "0c34b88b",
   "metadata": {},
   "source": [
    "### Step 2: Create Prediction-Sorted Long-Short Decile Portfolios"
   ]
  },
  {
   "cell_type": "code",
   "execution_count": null,
   "id": "c257e288",
   "metadata": {},
   "outputs": [],
   "source": [
    "# Function to Build ML-Based Long-Short Portfolio and Calculate Expected and Realized Returns\n",
    "def portfolio_builder(df, date_col, y_true_col, y_pred_col, weights_col = None):\n",
    "    df = df.copy()\n",
    "    df['decile'] = df.groupby([date_col])[y_pred_col].transform(\n",
    "        lambda x: pd.qcut(x, 10, labels=False, duplicates='drop') + 1)\n",
    "\n",
    "    def actual_ret(group):\n",
    "        buy_df = group[group['decile'] == 10].copy()\n",
    "        sell_df = group[group['decile'] == 1].copy()\n",
    "        if weights_col == None:\n",
    "            buy_ret = (buy_df[y_true_col] / buy_df.shape[0]).sum()\n",
    "            sell_ret = (sell_df[y_true_col] / sell_df.shape[0]).sum()\n",
    "        else:\n",
    "            buy_df[weights_col] /= buy_df[weights_col].sum()\n",
    "            sell_df[weights_col] /= sell_df[weights_col].sum()\n",
    "            buy_ret = (buy_df[y_true_col] * buy_df[weights_col]).sum()\n",
    "            sell_ret = (sell_df[y_true_col] * sell_df[weights_col]).sum()\n",
    "\n",
    "        return buy_ret - sell_ret   # for zero-net-investment portfolio\n",
    "    \n",
    "    r_ret = (df.groupby([date_col]).apply(actual_ret)).reset_index().rename(columns={0:\"r_\"+y_pred_col.replace(\"y_\", \"\")})\n",
    "    return r_ret"
   ]
  },
  {
   "cell_type": "code",
   "execution_count": null,
   "id": "a4907cdf",
   "metadata": {},
   "outputs": [],
   "source": [
    "# Build Equal Weighted ML-Based Long-Short Portfolios Using Various Models\n",
    "ml_equal_portfolio_rets = pd.DataFrame(results[DATE_COL].unique(), columns=[DATE_COL])\n",
    "\n",
    "for model in models:\n",
    "    p = portfolio_builder(results, DATE_COL, TARGET_COL, model)\n",
    "    ml_equal_portfolio_rets = ml_equal_portfolio_rets.merge(p, 'left', DATE_COL)"
   ]
  },
  {
   "cell_type": "code",
   "execution_count": null,
   "id": "4894e41e",
   "metadata": {},
   "outputs": [],
   "source": [
    "# Build Value Weighted ML-Based Portfolios Using Various Models\n",
    "ml_value_portfolio_rets = pd.DataFrame(results[DATE_COL].unique(), columns=[DATE_COL])\n",
    "\n",
    "for model in models:\n",
    "    p = portfolio_builder(results, DATE_COL, TARGET_COL, model, WEIGHTS_COL)\n",
    "    ml_value_portfolio_rets = ml_value_portfolio_rets.merge(p, 'left', DATE_COL)"
   ]
  },
  {
   "cell_type": "markdown",
   "id": "69a211d1",
   "metadata": {},
   "source": [
    "##### Save Results"
   ]
  },
  {
   "cell_type": "code",
   "execution_count": null,
   "id": "204e6686",
   "metadata": {},
   "outputs": [],
   "source": [
    "# Save Equal and Value Weighted ML-Based Portfolio Results\n",
    "ml_equal_portfolio_rets.to_csv(ml_equal_portfolio_results_path, index=False)\n",
    "ml_value_portfolio_rets.to_csv(ml_value_portfolio_results_path, index=False)"
   ]
  },
  {
   "cell_type": "code",
   "execution_count": null,
   "id": "f1a296e1",
   "metadata": {},
   "outputs": [],
   "source": []
  }
 ],
 "metadata": {
  "kernelspec": {
   "display_name": "base",
   "language": "python",
   "name": "python3"
  },
  "language_info": {
   "codemirror_mode": {
    "name": "ipython",
    "version": 3
   },
   "file_extension": ".py",
   "mimetype": "text/x-python",
   "name": "python",
   "nbconvert_exporter": "python",
   "pygments_lexer": "ipython3",
   "version": "3.12.3"
  }
 },
 "nbformat": 4,
 "nbformat_minor": 5
}
