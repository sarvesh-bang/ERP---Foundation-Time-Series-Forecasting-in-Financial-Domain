{
 "cells": [
  {
   "cell_type": "code",
   "execution_count": null,
   "id": "100c1242",
   "metadata": {},
   "outputs": [],
   "source": [
    "# Import required libraries\n",
    "import numpy as np\n",
    "import pandas as pd\n",
    "import os"
   ]
  },
  {
   "cell_type": "code",
   "execution_count": null,
   "id": "f95e8bc4",
   "metadata": {},
   "outputs": [],
   "source": [
    "# Parameters and File Paths\n",
    "\n",
    "# Parameters for data\n",
    "WINDOW = 21     # rolling window size to use as predictors\n",
    "DATE_COL = 'Date'\n",
    "ID_COL = 'PERMNO'\n",
    "TARGET_COL = 'excess_return'\n",
    "WEIGHTS_COL = 'avg_market_cap'\n",
    "\n",
    "# File path for the equal weighted portfolio results\n",
    "current_directory = os.getcwd()\n",
    "bu_equal_portfolio_results_path = os.path.join(current_directory, 'Results', f'bu_equal_portfolio_results{WINDOW:.0f}.csv')\n",
    "ml_equal_portfolio_results_path = os.path.join(current_directory, 'Results', f'ml_equal_portfolio_results{WINDOW:.0f}.csv')\n",
    "\n",
    "# File path for the value weighted portfolio results\n",
    "bu_value_portfolio_results_path = os.path.join(current_directory, 'Results', f'bu_value_portfolio_results{WINDOW:.0f}.csv')\n",
    "ml_value_portfolio_results_path = os.path.join(current_directory, 'Results', f'ml_value_portfolio_results{WINDOW:.0f}.csv')\n",
    "\n",
    "# File path to save the equal weighted portfolio evaluation results\n",
    "bu_equal_portfolio_evaluation_path = os.path.join(current_directory, 'Results', f'bu_equal_portfolio_evaluation{WINDOW:.0f}.csv')\n",
    "ml_equal_portfolio_evaluation_path = os.path.join(current_directory, 'Results', f'ml_equal_portfolio_evaluation{WINDOW:.0f}.csv')\n",
    "\n",
    "# File path to save the value weighted portfolio evaluation results\n",
    "bu_value_portfolio_evaluation_path = os.path.join(current_directory, 'Results', f'bu_value_portfolio_evaluation{WINDOW:.0f}.csv')\n",
    "ml_value_portfolio_evaluation_path = os.path.join(current_directory, 'Results', f'ml_value_portfolio_evaluation{WINDOW:.0f}.csv')"
   ]
  },
  {
   "cell_type": "code",
   "execution_count": null,
   "id": "edde68a7",
   "metadata": {},
   "outputs": [],
   "source": [
    "# Dictionary for model names\n",
    "models_dict = {\"ols\": \"OLS\",\n",
    "               \"lasso\": \"Lasso\",\n",
    "               \"ridge\": \"Ridge\",\n",
    "               \"enet\": \"Elastic Net\",\n",
    "               \"rf\": \"RF\",\n",
    "               \"xgb\": \"XGB\",\n",
    "               \"nn1\": \"NN1\",\n",
    "               \"nn2\": \"NN2\",\n",
    "               \"nn3\": \"NN3\",\n",
    "               \"nn4\": \"NN4\",\n",
    "               \"nn5\": \"NN5\",\n",
    "               \"tfm1\": \"TimesFM 1.0\",\n",
    "               \"tfm2\": \"TimesFM 2.0\",\n",
    "               \"chr_bolt_tiny\": \"Chronos-Bolt-Tiny\",\n",
    "               \"chr_bolt_mini\": \"Chronos-Bolt-Mini\",\n",
    "               \"chr_bolt_small\": \"Chronos-Bolt-Small\",\n",
    "               \"chr_bolt_base\": \"Chronos-Bolt-Base\",\n",
    "               \"chr_t5_tiny\": \"Chronos-T5-Tiny\",\n",
    "               \"chr_t5_mini\": \"Chronos-T5-Mini\",\n",
    "               \"chr_t5_small\": \"Chronos-T5-Small\",\n",
    "               \"moirai_s\": \"Moirai-Small\",\n",
    "               \"moirai_moe_s\": \"Moirai-MoE-Small\",\n",
    "               \"moirai_moe_b\": \"Moirai-MoE-Base\"\n",
    "               }"
   ]
  },
  {
   "cell_type": "markdown",
   "id": "125989aa",
   "metadata": {},
   "source": [
    "### Step 1: Load Bottom-up and Long-Short Portfolios"
   ]
  },
  {
   "cell_type": "code",
   "execution_count": null,
   "id": "2eab1e84",
   "metadata": {},
   "outputs": [],
   "source": [
    "# Load the results for equal and value weighted bottom-up portfolios\n",
    "bu_equal_portfolio_rets = pd.read_csv(bu_equal_portfolio_results_path, parse_dates=[DATE_COL])\n",
    "bu_value_portfolio_rets = pd.read_csv(bu_value_portfolio_results_path, parse_dates=[DATE_COL])\n",
    "\n",
    "# Load the results for equal and value weighted long-short portfolios\n",
    "ml_equal_portfolio_rets = pd.read_csv(ml_equal_portfolio_results_path, parse_dates=[DATE_COL])\n",
    "ml_value_portfolio_rets = pd.read_csv(ml_value_portfolio_results_path, parse_dates=[DATE_COL])"
   ]
  },
  {
   "cell_type": "markdown",
   "id": "f7fe06f0",
   "metadata": {},
   "source": [
    "### Step 2: Economic Evaluation and Comparison of Bottom-up Portfolios"
   ]
  },
  {
   "cell_type": "code",
   "execution_count": null,
   "id": "14c4bcbc",
   "metadata": {},
   "outputs": [],
   "source": [
    "# Function to Calculate Predictive-R2 Used in the Finance Literature\n",
    "def r2(y_true, y_pred):\n",
    "    return 1-(((y_true-y_pred)**2).sum()/(y_true**2).sum())"
   ]
  },
  {
   "cell_type": "code",
   "execution_count": null,
   "id": "cfcf2deb",
   "metadata": {},
   "outputs": [],
   "source": [
    "# Evaluate Equal Weighted Bottom-up Portfolio Using Various Models\n",
    "bu_equal_portfolio_r2 = []\n",
    "\n",
    "models = [col for col in bu_equal_portfolio_rets.columns.to_list() if col.startswith(\"e_\")]\n",
    "\n",
    "for model in models:\n",
    "    bu_equal_portfolio_r2.append({\n",
    "        \"Model\": models_dict[model[2:]],\n",
    "        \"R2 (Equal)\": r2(bu_equal_portfolio_rets[\"r_bu_portfolio\"], bu_equal_portfolio_rets[model]),\n",
    "        \"DA (Equal)\": (np.sign(bu_equal_portfolio_rets[\"r_bu_portfolio\"]) == np.sign(bu_equal_portfolio_rets[model])).mean()\n",
    "        })\n",
    "\n",
    "bu_equal_portfolio_r2_df = pd.DataFrame(bu_equal_portfolio_r2)\n",
    "bu_equal_portfolio_r2_df[\"DA (Equal)\"] = bu_equal_portfolio_r2_df[\"DA (Equal)\"]*100"
   ]
  },
  {
   "cell_type": "code",
   "execution_count": null,
   "id": "13c84e86",
   "metadata": {},
   "outputs": [],
   "source": [
    "# Evaluate Value Weighted Bottom-up Portfolio Using Various Models\n",
    "bu_value_portfolio_r2 = []\n",
    "\n",
    "models = [col for col in bu_value_portfolio_rets.columns.to_list() if col.startswith(\"e_\")]\n",
    "\n",
    "for model in models:\n",
    "    bu_value_portfolio_r2.append({\n",
    "        \"Model\": models_dict[model[2:]],\n",
    "        \"R2 (Value)\": r2(bu_value_portfolio_rets[\"r_bu_portfolio\"], bu_value_portfolio_rets[model]),\n",
    "        \"DA (Value)\": (np.sign(bu_value_portfolio_rets[\"r_bu_portfolio\"]) == np.sign(bu_value_portfolio_rets[model])).mean()\n",
    "        })\n",
    "\n",
    "bu_value_portfolio_r2_df = pd.DataFrame(bu_value_portfolio_r2)\n",
    "bu_value_portfolio_r2_df[\"DA (Value)\"] = bu_value_portfolio_r2_df[\"DA (Value)\"]*100"
   ]
  },
  {
   "cell_type": "markdown",
   "id": "6173a0bb",
   "metadata": {},
   "source": [
    "##### Save Results"
   ]
  },
  {
   "cell_type": "code",
   "execution_count": null,
   "id": "30ca330c",
   "metadata": {},
   "outputs": [],
   "source": [
    "# Save Equal and Value Weighted Bottom-up Portfolio Evaluation Results\n",
    "bu_equal_portfolio_r2_df.to_csv(bu_equal_portfolio_evaluation_path, index=False)\n",
    "bu_value_portfolio_r2_df.to_csv(bu_value_portfolio_evaluation_path, index=False)"
   ]
  },
  {
   "cell_type": "code",
   "execution_count": null,
   "id": "3068d731",
   "metadata": {},
   "outputs": [],
   "source": [
    "bu_portfolio_r2_df = bu_equal_portfolio_r2_df.merge(bu_value_portfolio_r2_df, 'left', \"Model\")\n",
    "bu_portfolio_r2_df"
   ]
  },
  {
   "cell_type": "markdown",
   "id": "fcb6464b",
   "metadata": {},
   "source": [
    "### Step 3: Evaluate Yearly Returns for Bottom-Up and Long-Short Portfolios"
   ]
  },
  {
   "cell_type": "code",
   "execution_count": null,
   "id": "23657f7b",
   "metadata": {},
   "outputs": [],
   "source": [
    "# Function to Evaluate Realized Annual Returns\n",
    "def annual_rets(df, date_col, r_ret_col):\n",
    "    df = df.copy()\n",
    "    df[\"Year\"] = df[date_col].dt.year\n",
    "    \n",
    "    def a_annualize(group):\n",
    "        return group[r_ret_col].sum()   # annual return\n",
    "\n",
    "    a_ret = (df.groupby([\"Year\"]).apply(a_annualize)).reset_index().rename(columns={0:r_ret_col+\"_p_annual\"})\n",
    "    return a_ret"
   ]
  },
  {
   "cell_type": "code",
   "execution_count": null,
   "id": "58057e38",
   "metadata": {},
   "outputs": [],
   "source": [
    "#  Calculate Realized Annual Returns for Bottom-Up Equal and Value Weighted Portfolio for Various Models\n",
    "bu_equal_annual_rets_df = annual_rets(bu_equal_portfolio_rets, DATE_COL, \"r_bu_portfolio\")\n",
    "\n",
    "bu_value_annual_rets_df = annual_rets(bu_value_portfolio_rets, DATE_COL, \"r_bu_portfolio\")\n",
    "bu_equal_annual_rets_df.info()"
   ]
  },
  {
   "cell_type": "code",
   "execution_count": null,
   "id": "c7b659b7",
   "metadata": {},
   "outputs": [],
   "source": [
    "#  Calculate Realized Annual Returns for ML-Based Long-Short Equal Weighted Portfolio for Various Models\n",
    "equal_annual_rets_df = bu_equal_annual_rets_df.copy()\n",
    "\n",
    "for model in models:\n",
    "    r_ret = \"r_\"+model[2:]\n",
    "    a_ret = annual_rets(ml_equal_portfolio_rets, DATE_COL, r_ret)\n",
    "\n",
    "    equal_annual_rets_df = equal_annual_rets_df.merge(a_ret, 'left', \"Year\")\n",
    "\n",
    "equal_annual_rets_df = equal_annual_rets_df.set_index(\"Year\").T\n",
    "year_cols = equal_annual_rets_df.columns.to_list()\n",
    "equal_annual_rets_df[\"Average\"] = np.mean([equal_annual_rets_df[col] for col in year_cols], axis=0)\n",
    "equal_annual_rets_df"
   ]
  },
  {
   "cell_type": "code",
   "execution_count": null,
   "id": "5744a878",
   "metadata": {},
   "outputs": [],
   "source": [
    "#  Calculate Realized Annual Returns for ML-Based Long-Short Value Weighted Portfolio for Various Models\n",
    "value_annual_rets_df = bu_value_annual_rets_df.copy()\n",
    "\n",
    "for model in models:\n",
    "    r_ret = \"r_\"+model[2:]\n",
    "    a_ret = annual_rets(ml_value_portfolio_rets, DATE_COL, r_ret)\n",
    "\n",
    "    value_annual_rets_df = value_annual_rets_df.merge(a_ret, 'left', \"Year\")\n",
    "\n",
    "value_annual_rets_df = value_annual_rets_df.set_index(\"Year\").T\n",
    "year_cols = value_annual_rets_df.columns.to_list()\n",
    "value_annual_rets_df[\"Average\"] = np.mean([value_annual_rets_df[col] for col in year_cols], axis=0)\n",
    "value_annual_rets_df"
   ]
  },
  {
   "cell_type": "markdown",
   "id": "41143dfb",
   "metadata": {},
   "source": [
    "### Step 4: Economic Evaluation and Comparison of Long-Short Portfolios"
   ]
  },
  {
   "cell_type": "code",
   "execution_count": null,
   "id": "30ec8f81",
   "metadata": {},
   "outputs": [],
   "source": [
    "# Function to Evaluate Sharpe Ratio, Maximum Drawdown and CAGR for Portfolio\n",
    "def economic_evaluation(df, r_ret_col, date_col):\n",
    "    df = df.copy()\n",
    "    df[\"Year\"] = df[date_col].dt.year\n",
    "\n",
    "    mean_return = df[r_ret_col].mean()\n",
    "    std_return = df[r_ret_col].std()\n",
    "    sharpe_ratio = (mean_return / std_return) * ((252)**0.5)\n",
    "\n",
    "    def max_dd(group):\n",
    "        cumulative = (1 + group[r_ret_col]).cumprod()\n",
    "        running_max = cumulative.cummax()\n",
    "        drawdown = 1 - (cumulative / running_max)\n",
    "        return drawdown.max()\n",
    "    \n",
    "    max_drawdown = (df.groupby([\"Year\"]).apply(max_dd)).reset_index()[0].max()\n",
    "\n",
    "    cagr = ((np.prod([(1 + r) for r in df[r_ret_col]]))**(252/df.shape[0]) - 1)\n",
    "\n",
    "    return mean_return, std_return, sharpe_ratio, max_drawdown, cagr"
   ]
  },
  {
   "cell_type": "code",
   "execution_count": null,
   "id": "9e6a215b",
   "metadata": {},
   "outputs": [],
   "source": [
    "#  Economic Evaluation of ML-Based Equal Weighted Portfolio for Various Models\n",
    "ml_equal_portfolio_ee = []\n",
    "\n",
    "for model in models:\n",
    "    r_ret = \"r_\"+model[2:]\n",
    "    a_ret = annual_rets(ml_equal_portfolio_rets, DATE_COL, r_ret)\n",
    "    avg_annual_ret = np.mean(a_ret[r_ret+\"_p_annual\"])\n",
    "    avg_daily_ret, std_daily_ret, sharpe_ratio, max_drawdown, cagr = economic_evaluation(ml_equal_portfolio_rets, r_ret, DATE_COL)\n",
    "\n",
    "    ml_equal_portfolio_ee.append({\n",
    "        \"Model\": models_dict[model[2:]],\n",
    "        \"Avg. Annual Return\": avg_annual_ret,\n",
    "        \"Std. Annual Return\": std_daily_ret * ((252)**0.5),\n",
    "        \"Sharpe Ratio\": sharpe_ratio,\n",
    "        \"Maximum Drawdown\": max_drawdown,\n",
    "        \"CAGR\": cagr\n",
    "        })\n",
    "    \n",
    "ml_equal_portfolio_ee_df = pd.DataFrame(ml_equal_portfolio_ee)\n",
    "ml_equal_portfolio_ee_df[\"Avg. Annual Return\"] = ml_equal_portfolio_ee_df[\"Avg. Annual Return\"]*100\n",
    "ml_equal_portfolio_ee_df[\"Std. Annual Return\"] = ml_equal_portfolio_ee_df[\"Std. Annual Return\"]*100\n",
    "ml_equal_portfolio_ee_df[\"Maximum Drawdown\"] = ml_equal_portfolio_ee_df[\"Maximum Drawdown\"]*100\n",
    "ml_equal_portfolio_ee_df[\"CAGR\"] = ml_equal_portfolio_ee_df[\"CAGR\"]*100\n",
    "\n",
    "ml_equal_portfolio_ee_df"
   ]
  },
  {
   "cell_type": "code",
   "execution_count": null,
   "id": "73412d07",
   "metadata": {},
   "outputs": [],
   "source": [
    "#  Economic Evaluation of ML-Based Value Weighted Portfolio for Various Models\n",
    "ml_value_portfolio_ee = []\n",
    "\n",
    "for model in models:\n",
    "    r_ret = \"r_\"+model[2:]\n",
    "    a_ret = annual_rets(ml_value_portfolio_rets, DATE_COL, r_ret)\n",
    "    avg_annual_ret = np.mean(a_ret[r_ret+\"_p_annual\"])\n",
    "    avg_daily_ret, std_daily_ret, sharpe_ratio, max_drawdown, cagr = economic_evaluation(ml_value_portfolio_rets, r_ret, DATE_COL)\n",
    "\n",
    "    ml_value_portfolio_ee.append({\n",
    "        \"Model\": models_dict[model[2:]],\n",
    "        \"Avg. Annual Return\": avg_annual_ret,\n",
    "        \"Std. Annual Return\": std_daily_ret  * ((252)**0.5),\n",
    "        \"Sharpe Ratio\": sharpe_ratio,\n",
    "        \"Maximum Drawdown\": max_drawdown,        \n",
    "        \"CAGR\": cagr\n",
    "        })\n",
    "    \n",
    "ml_value_portfolio_ee_df = pd.DataFrame(ml_value_portfolio_ee)\n",
    "ml_value_portfolio_ee_df[\"Avg. Annual Return\"] = ml_value_portfolio_ee_df[\"Avg. Annual Return\"]*100\n",
    "ml_value_portfolio_ee_df[\"Std. Annual Return\"] = ml_value_portfolio_ee_df[\"Std. Annual Return\"]*100\n",
    "ml_value_portfolio_ee_df[\"Maximum Drawdown\"] = ml_value_portfolio_ee_df[\"Maximum Drawdown\"]*100\n",
    "ml_value_portfolio_ee_df[\"CAGR\"] = ml_value_portfolio_ee_df[\"CAGR\"]*100\n",
    "\n",
    "ml_value_portfolio_ee_df"
   ]
  },
  {
   "cell_type": "markdown",
   "id": "c1345896",
   "metadata": {},
   "source": [
    "##### Save Results"
   ]
  },
  {
   "cell_type": "code",
   "execution_count": null,
   "id": "48ce8f28",
   "metadata": {},
   "outputs": [],
   "source": [
    "# Save Equal and Value Weighted ML-Based Portfolio Evaluation Results\n",
    "ml_equal_portfolio_ee_df.to_csv(ml_equal_portfolio_evaluation_path, index=False)\n",
    "ml_value_portfolio_ee_df.to_csv(ml_value_portfolio_evaluation_path, index=False)"
   ]
  },
  {
   "cell_type": "code",
   "execution_count": null,
   "id": "f1a296e1",
   "metadata": {},
   "outputs": [],
   "source": []
  }
 ],
 "metadata": {
  "kernelspec": {
   "display_name": "base",
   "language": "python",
   "name": "python3"
  },
  "language_info": {
   "codemirror_mode": {
    "name": "ipython",
    "version": 3
   },
   "file_extension": ".py",
   "mimetype": "text/x-python",
   "name": "python",
   "nbconvert_exporter": "python",
   "pygments_lexer": "ipython3",
   "version": "3.12.3"
  }
 },
 "nbformat": 4,
 "nbformat_minor": 5
}
