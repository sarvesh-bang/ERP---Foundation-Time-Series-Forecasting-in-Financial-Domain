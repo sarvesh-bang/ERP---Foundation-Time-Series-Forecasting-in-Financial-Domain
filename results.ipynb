{
 "cells": [
  {
   "cell_type": "code",
   "execution_count": null,
   "id": "100c1242",
   "metadata": {},
   "outputs": [],
   "source": [
    "# Import required libraries\n",
    "import numpy as np\n",
    "import pandas as pd\n",
    "from scipy.stats import norm\n",
    "import matplotlib.pyplot as plt\n",
    "import seaborn as sns\n",
    "import os"
   ]
  },
  {
   "cell_type": "code",
   "execution_count": null,
   "id": "f95e8bc4",
   "metadata": {},
   "outputs": [],
   "source": [
    "# Parameters and File Paths\n",
    "\n",
    "# Parameters for data\n",
    "WINDOW = 21     # rolling window size to use as predictors\n",
    "DATE_COL = 'Date'\n",
    "ID_COL = 'PERMNO'\n",
    "TARGET_COL = 'excess_return'\n",
    "\n",
    "# File paths for the prediction results files of different models\n",
    "current_directory = os.getcwd()\n",
    "models_results_path = os.path.join(current_directory, 'Results', f'models_results{WINDOW:.0f}.csv')\n",
    "chronos_models_results_path = os.path.join(current_directory, 'Results', f'chronos_models_results{WINDOW:.0f}.csv')\n",
    "timesfm_models_results_path = os.path.join(current_directory, 'Results', f'timesfm_models_results{WINDOW:.0f}.csv')\n",
    "uni2ts_models_results_path = os.path.join(current_directory, 'Results', f'uni2ts_models_results{WINDOW:.0f}.csv')\n",
    "\n",
    "# File path to save merged prediction results of various models\n",
    "merged_results_path = os.path.join(current_directory, 'Results', f'merged_results{WINDOW:.0f}.csv')"
   ]
  },
  {
   "cell_type": "code",
   "execution_count": null,
   "id": "3f8c8ea9",
   "metadata": {},
   "outputs": [],
   "source": [
    "# Dictionary for model names\n",
    "models_dict = {\"ols\": \"OLS\",\n",
    "               \"lasso\": \"Lasso\",\n",
    "               \"ridge\": \"Ridge\",\n",
    "               \"enet\": \"Elastic Net\",\n",
    "               \"rf\": \"RF\",\n",
    "               \"xgb\": \"XGB\",\n",
    "               \"nn1\": \"NN1\",\n",
    "               \"nn2\": \"NN2\",\n",
    "               \"nn3\": \"NN3\",\n",
    "               \"nn4\": \"NN4\",\n",
    "               \"nn5\": \"NN5\",\n",
    "               \"tfm1\": \"TimesFM 1.0\",\n",
    "               \"tfm2\": \"TimesFM 2.0\",\n",
    "               \"chr_bolt_tiny\": \"Chronos-Bolt-Tiny\",\n",
    "               \"chr_bolt_mini\": \"Chronos-Bolt-Mini\",\n",
    "               \"chr_bolt_small\": \"Chronos-Bolt-Small\",\n",
    "               \"chr_bolt_base\": \"Chronos-Bolt-Base\",\n",
    "               \"chr_t5_tiny\": \"Chronos-T5-Tiny\",\n",
    "               \"chr_t5_mini\": \"Chronos-T5-Mini\",\n",
    "               \"chr_t5_small\": \"Chronos-T5-Small\",\n",
    "               \"moirai_s\": \"Moirai-Small\",\n",
    "               \"moirai_moe_s\": \"Moirai-MoE-Small\",\n",
    "               \"moirai_moe_b\": \"Moirai-MoE-Base\"\n",
    "               }"
   ]
  },
  {
   "cell_type": "markdown",
   "id": "ede6b3d8",
   "metadata": {},
   "source": [
    "### Step 1: Load Forecast Results"
   ]
  },
  {
   "cell_type": "code",
   "execution_count": null,
   "id": "2eab1e84",
   "metadata": {},
   "outputs": [],
   "source": [
    "# Collate All Prediction Results in Single Dataframe\n",
    "results = pd.read_csv(models_results_path)\n",
    "try:\n",
    "    timesfm_models_results = pd.read_csv(timesfm_models_results_path)\n",
    "    results = results.merge(timesfm_models_results, how=\"left\", on=[ID_COL, DATE_COL, TARGET_COL])\n",
    "except:\n",
    "    print(\"TimesFM models' prediction results not added\")\n",
    "try:\n",
    "    chronos_models_results = pd.read_csv(chronos_models_results_path)\n",
    "    results = results.merge(chronos_models_results, how=\"left\", on=[ID_COL, DATE_COL, TARGET_COL])\n",
    "except:\n",
    "    print(\"Chronos models' prediction results not added\")\n",
    "try:\n",
    "    uni2ts_models_results = pd.read_csv(uni2ts_models_results_path)\n",
    "    results = results.merge(uni2ts_models_results, how=\"left\", on=[ID_COL, DATE_COL, TARGET_COL])\n",
    "except:\n",
    "    print(\"Uni2ts models' prediction results not added\")\n",
    "\n",
    "results.info()"
   ]
  },
  {
   "cell_type": "markdown",
   "id": "24d7797b",
   "metadata": {},
   "source": [
    "##### Save Results"
   ]
  },
  {
   "cell_type": "code",
   "execution_count": null,
   "id": "85d1d972",
   "metadata": {},
   "outputs": [],
   "source": [
    "# Save Merged Prediction Results\n",
    "results.to_csv(merged_results_path, index=False)"
   ]
  },
  {
   "cell_type": "markdown",
   "id": "75a8b06d",
   "metadata": {},
   "source": [
    "### Step 2: Evaluate and Compare Statistical Performance of Models"
   ]
  },
  {
   "cell_type": "code",
   "execution_count": null,
   "id": "14c4bcbc",
   "metadata": {},
   "outputs": [],
   "source": [
    "# Creating a Function to Calculate Predictive-R2 Used in the Finance Literature\n",
    "def r2(y_true, y_pred):\n",
    "    return 1-(((y_true-y_pred)**2).sum()/(y_true**2).sum())"
   ]
  },
  {
   "cell_type": "code",
   "execution_count": null,
   "id": "11236f6a",
   "metadata": {},
   "outputs": [],
   "source": [
    "# Calculate the Result Matrix for All the Models\n",
    "results_matrix = []\n",
    "\n",
    "models = [col for col in results.columns.to_list() if col.startswith(\"y_\")]\n",
    "\n",
    "for model in models:\n",
    "    results_matrix.append({\n",
    "        \"Model\": models_dict[model.replace(\"y_\", \"\")],\n",
    "        \"R2\": r2(results[TARGET_COL], results[model]),\n",
    "        \"Directional Accuracy\": (np.sign(results[TARGET_COL]) == np.sign(results[model])).mean(),\n",
    "        \"DA (+ve Ret)\": (np.sign(results[results[TARGET_COL]>=0][TARGET_COL]) == np.sign(results[results[TARGET_COL]>=0][model])).mean(),\n",
    "        \"DA (-ve Ret)\": (np.sign(results[results[TARGET_COL]<0][TARGET_COL]) == np.sign(results[results[TARGET_COL]<0][model])).mean()\n",
    "        })\n",
    "\n",
    "results_matrix_df = pd.DataFrame(results_matrix)\n",
    "results_matrix_df"
   ]
  },
  {
   "cell_type": "markdown",
   "id": "6fb03351",
   "metadata": {},
   "source": [
    "### Step 3: Perform Test for Statistical Significance"
   ]
  },
  {
   "cell_type": "code",
   "execution_count": null,
   "id": "db2fbd5d",
   "metadata": {},
   "outputs": [],
   "source": [
    "# Function to Perform Pairwise Diebold-Mariano Test\n",
    "def diebold_mariano(y_true, y_pred1, y_pred2, power=2):\n",
    "    d  = (y_pred1 - y_true)**power - (y_pred2 - y_true)**power\n",
    "    d_mean = np.mean(d)\n",
    "    var_d = np.var(d, ddof=1)\n",
    "    \n",
    "    dm_stat = d_mean / np.sqrt(var_d / len(d))\n",
    "    p_value = 2 * norm.sf(abs(dm_stat))\n",
    "    return dm_stat, p_value"
   ]
  },
  {
   "cell_type": "code",
   "execution_count": null,
   "id": "ecbcb768",
   "metadata": {},
   "outputs": [],
   "source": [
    "# Diebold-Mariano Test\n",
    "dm_score_matrix = []\n",
    "dm_p_matrix = []\n",
    "\n",
    "for i in range(len(models)):\n",
    "    model1 = models[i].replace(\"y_\", \"\")\n",
    "    dm_scores = {\"Model\": models_dict[model1]}\n",
    "    dm_p = {\"Model\": models_dict[model1]}\n",
    "    for j in range(i, len(models)):\n",
    "        model2 = models[j].replace(\"y_\", \"\")\n",
    "        dm_scores[models_dict[model2]], dm_p[models_dict[model2]] = diebold_mariano(results[TARGET_COL], results[models[i]], results[models[j]])\n",
    "    dm_score_matrix.append(dm_scores)\n",
    "    dm_p_matrix.append(dm_p)\n",
    "\n",
    "# Stat test score\n",
    "dm_score_matrix_df = pd.DataFrame(dm_score_matrix)\n",
    "dm_score_matrix_df.set_index(\"Model\", inplace=True)\n",
    "dm_score_matrix_df"
   ]
  },
  {
   "cell_type": "code",
   "execution_count": null,
   "id": "e23fdf97",
   "metadata": {},
   "outputs": [],
   "source": [
    "# p-value\n",
    "dm_p_matrix_df = pd.DataFrame(dm_p_matrix)\n",
    "dm_p_matrix_df.set_index(\"Model\", inplace=True)\n",
    "dm_p_matrix_df"
   ]
  },
  {
   "cell_type": "code",
   "execution_count": null,
   "id": "6fbfe1bc",
   "metadata": {},
   "outputs": [],
   "source": [
    "# Plot Results of Stat Test\n",
    "sns.set_style(\"white\")\n",
    "\n",
    "scores = dm_score_matrix_df.T.copy().astype(float)\n",
    "pvals = dm_p_matrix_df.T.copy().astype(float)\n",
    "\n",
    "def stars(p):\n",
    "    return \"*\" if p < 0.05 else \"\"\n",
    "\n",
    "annot = scores.round(2).astype(str) + pvals.applymap(stars)\n",
    "\n",
    "plt.figure(figsize=(13,11))\n",
    "ax = sns.heatmap(scores, cmap=\"vlag\", center=0, annot=annot, fmt=\"\", linewidths=.5)\n",
    "ax.set_title(\"Diebold–Mariano Test — Pairwise DM Statistics\")\n",
    "ax.tick_params(axis='x', rotation=60)\n",
    "\n",
    "plt.tight_layout()\n",
    "plt.show()"
   ]
  },
  {
   "cell_type": "code",
   "execution_count": null,
   "id": "c257e288",
   "metadata": {},
   "outputs": [],
   "source": []
  }
 ],
 "metadata": {
  "kernelspec": {
   "display_name": "base",
   "language": "python",
   "name": "python3"
  },
  "language_info": {
   "codemirror_mode": {
    "name": "ipython",
    "version": 3
   },
   "file_extension": ".py",
   "mimetype": "text/x-python",
   "name": "python",
   "nbconvert_exporter": "python",
   "pygments_lexer": "ipython3",
   "version": "3.12.3"
  }
 },
 "nbformat": 4,
 "nbformat_minor": 5
}
