{
 "cells": [
  {
   "cell_type": "code",
   "execution_count": null,
   "id": "100c1242",
   "metadata": {},
   "outputs": [],
   "source": [
    "# Import required libraries\n",
    "import numpy as np\n",
    "import pandas as pd\n",
    "import torch\n",
    "from gluonts.dataset.common import ListDataset\n",
    "from uni2ts.model.moirai import MoiraiForecast, MoiraiModule\n",
    "from uni2ts.model.moirai_moe import MoiraiMoEForecast, MoiraiMoEModule\n",
    "from sklearn.metrics import mean_squared_error, mean_absolute_error\n",
    "import os"
   ]
  },
  {
   "cell_type": "code",
   "execution_count": null,
   "id": "cbe4a587",
   "metadata": {},
   "outputs": [],
   "source": [
    "# Parameters and settings\n",
    "\n",
    "# Parameters for data split\n",
    "WINDOW = 21    # rolling window size to use as predictors\n",
    "DATE_COL = 'Date'\n",
    "ID_COL = 'PERMNO'\n",
    "TARGET_COL = 'excess_return'\n",
    "\n",
    "# File path for the cleaned and filtered data file\n",
    "current_directory = os.getcwd()\n",
    "clean_filtered_data_path = os.path.join(current_directory, 'Data', 'clean_filtered_data.csv')\n",
    "\n",
    "# File path to save prediction results\n",
    "results_path = os.path.join(current_directory, 'Results', f'uni2ts_models_results{WINDOW:.0f}.csv')\n",
    "\n",
    "# Estimation (in sample) period dates\n",
    "in_sample_start_date = pd.to_datetime(\"2000-01-01\")\n",
    "in_sample_end_date = pd.to_datetime(\"2015-12-31\")\n",
    "\n",
    "# Out-of-sample period dates\n",
    "out_sample_start_date = pd.to_datetime(\"2016-01-01\")\n",
    "out_sample_end_date = pd.to_datetime(\"2024-12-31\")\n",
    "\n",
    "# Use GPU if available, else default to using CPU\n",
    "device_map = \"cuda\" if torch.cuda.is_available() else \"cpu\"\n",
    "device = torch.device(\"cuda\" if torch.cuda.is_available() else \"cpu\")"
   ]
  },
  {
   "cell_type": "markdown",
   "id": "77395578",
   "metadata": {},
   "source": [
    "### Step 1: Load and Process Data"
   ]
  },
  {
   "cell_type": "code",
   "execution_count": null,
   "id": "f2ceb9b7",
   "metadata": {},
   "outputs": [],
   "source": [
    "# Load the cleaned and filtered data files for in sample and out of sample periods into a pandas DataFrames\n",
    "df = pd.read_csv(clean_filtered_data_path)\n",
    "\n",
    "# Ensure the date columns are in datetime format\n",
    "df[DATE_COL] = pd.to_datetime(df[DATE_COL])\n",
    "\n",
    "df = df[[ID_COL, DATE_COL, TARGET_COL]].dropna()\n",
    "df = df.sort_values([ID_COL, DATE_COL]).reset_index(drop=True)\n",
    "\n",
    "df.info()"
   ]
  },
  {
   "cell_type": "code",
   "execution_count": null,
   "id": "b4b9b2fe",
   "metadata": {},
   "outputs": [],
   "source": [
    "# Check number of unique stocks\n",
    "stocks_permno = df[\"PERMNO\"].unique().tolist()\n",
    "print(f\"Number of unique stocks: {len(stocks_permno)}\")"
   ]
  },
  {
   "cell_type": "code",
   "execution_count": null,
   "id": "a895a874",
   "metadata": {},
   "outputs": [],
   "source": [
    "# Create rolling window for predictors\n",
    "for lag in range(1, WINDOW+1):\n",
    "    df[f'lag_{lag}'] = df.groupby(ID_COL)[TARGET_COL].shift(lag)\n",
    "df = df.dropna(subset=[f'lag_{lag}' for lag in range(1, WINDOW+1)]).reset_index(drop=True)\n",
    "\n",
    "df.info()"
   ]
  },
  {
   "cell_type": "code",
   "execution_count": null,
   "id": "97ded843",
   "metadata": {},
   "outputs": [],
   "source": [
    "# Spit data into estimation (in-sample) and out-of-sample data\n",
    "df_train = df[(df[DATE_COL] >= in_sample_start_date) & (df[DATE_COL] <= in_sample_end_date)].copy().reset_index(drop=True)\n",
    "df_test = df[(df[DATE_COL] >= out_sample_start_date) & (df[DATE_COL] <= out_sample_end_date)].copy().reset_index(drop=True)\n",
    "\n",
    "print(df_train.info())\n",
    "print(df_test.info())"
   ]
  },
  {
   "cell_type": "code",
   "execution_count": null,
   "id": "a1362915",
   "metadata": {},
   "outputs": [],
   "source": [
    "# Create rolling window for predictors\n",
    "records = []\n",
    "for _, row in df_test.iterrows():\n",
    "    context = [row[f'lag_{i}'] for i in range(WINDOW, 0, -1)]\n",
    "    start_ts = row[DATE_COL] - pd.Timedelta(days=WINDOW)\n",
    "    records.append({\n",
    "        \"start\":  start_ts,\n",
    "        \"target\": context\n",
    "    })\n",
    "\n",
    "test_ds = ListDataset(records, freq=\"D\")"
   ]
  },
  {
   "cell_type": "code",
   "execution_count": null,
   "id": "634d7c2d",
   "metadata": {},
   "outputs": [],
   "source": [
    "y_test = pd.Series(df_test[TARGET_COL].values)\n",
    "\n",
    "results = df_test[[ID_COL, DATE_COL, TARGET_COL]]"
   ]
  },
  {
   "cell_type": "markdown",
   "id": "057b0756",
   "metadata": {},
   "source": [
    "### Step 2: Zero-Shot Forecasting with Uni2TS-Moirai"
   ]
  },
  {
   "cell_type": "code",
   "execution_count": null,
   "id": "e5e64beb",
   "metadata": {},
   "outputs": [],
   "source": [
    "# Creating a Function to Calculate Predictive-R2 Used in the Finance Literature\n",
    "def r2(y_true, y_pred):\n",
    "    return 1-(((y_true-y_pred)**2).sum()/(y_true**2).sum())"
   ]
  },
  {
   "cell_type": "code",
   "execution_count": null,
   "id": "f43cbb18",
   "metadata": {},
   "outputs": [],
   "source": [
    "# Zero Shot Uni2ts-Moirai Small\n",
    "moirai_s = MoiraiForecast(\n",
    "    module = MoiraiModule.from_pretrained(f\"Salesforce/moirai-1.1-R-small\"),\n",
    "    prediction_length = 1,\n",
    "    context_length = WINDOW,\n",
    "    patch_size = \"auto\",\n",
    "    num_samples = 100,\n",
    "    target_dim = 1,\n",
    "    feat_dynamic_real_dim = 0,\n",
    "    past_feat_dynamic_real_dim = 0\n",
    ")\n",
    "predictor = moirai_s.create_predictor(batch_size=32)\n",
    "predictor.to(device)\n",
    "\n",
    "preds = [forecasts.mean[0] for forecasts in predictor.predict(test_ds)]\n",
    "y_moirai_s = pd.Series(preds)\n",
    "\n",
    "results['y_moirai_s'] = y_moirai_s"
   ]
  },
  {
   "cell_type": "markdown",
   "id": "3ffffcfa",
   "metadata": {},
   "source": [
    "### Step 3: Zero-Shot Forecasting with Uni2TS-Moirai-Moe"
   ]
  },
  {
   "cell_type": "code",
   "execution_count": null,
   "id": "5e965e43",
   "metadata": {},
   "outputs": [],
   "source": [
    "# Zero Shot Uni2ts-Moirai-MoE Small\n",
    "moirai_moe_s = MoiraiMoEForecast(\n",
    "    module = MoiraiMoEModule.from_pretrained(f\"Salesforce/moirai-moe-1.0-R-small\"),\n",
    "    prediction_length = 1,\n",
    "    context_length = WINDOW,\n",
    "    patch_size = 16,\n",
    "    num_samples = 100,\n",
    "    target_dim = 1,\n",
    "    feat_dynamic_real_dim = 0,\n",
    "    past_feat_dynamic_real_dim = 0\n",
    ")\n",
    "predictor = moirai_moe_s.create_predictor(batch_size=32)\n",
    "predictor.to(device)\n",
    "\n",
    "preds = [forecasts.mean[0] for forecasts in predictor.predict(test_ds)]\n",
    "y_moirai_moe_s = pd.Series(preds)\n",
    "\n",
    "results['y_moirai_moe_s'] = y_moirai_moe_s"
   ]
  },
  {
   "cell_type": "code",
   "execution_count": null,
   "id": "4da1b9a6",
   "metadata": {},
   "outputs": [],
   "source": [
    "# Zero Shot Uni2ts-Moirai-MoE Base\n",
    "moirai_moe_b = MoiraiMoEForecast(\n",
    "    module = MoiraiMoEModule.from_pretrained(f\"Salesforce/moirai-moe-1.0-R-base\"),\n",
    "    prediction_length = 1,\n",
    "    context_length = WINDOW,\n",
    "    patch_size = 16,\n",
    "    num_samples = 100,\n",
    "    target_dim = 1,\n",
    "    feat_dynamic_real_dim = 0,\n",
    "    past_feat_dynamic_real_dim = 0\n",
    ")\n",
    "predictor = moirai_moe_b.create_predictor(batch_size=32)\n",
    "predictor.to(device)\n",
    "\n",
    "preds = [forecasts.mean[0] for forecasts in predictor.predict(test_ds)]\n",
    "y_moirai_moe_b = pd.Series(preds)\n",
    "\n",
    "results['y_moirai_moe_b'] = y_moirai_moe_b"
   ]
  },
  {
   "cell_type": "markdown",
   "id": "3b5322a6",
   "metadata": {},
   "source": [
    "### Step 4: Evaluate Statistical Performance of Models"
   ]
  },
  {
   "cell_type": "code",
   "execution_count": null,
   "id": "62df2ca5",
   "metadata": {},
   "outputs": [],
   "source": [
    "# Evaluate models\n",
    "\n",
    "# Unit2TS-Moirai-Small\n",
    "r2_moirai_s  = r2(y_test, y_moirai_s)\n",
    "mse_moirai_s = mean_squared_error(y_test, y_moirai_s)\n",
    "mae_moirai_s = mean_absolute_error(y_test, y_moirai_s)\n",
    "da_moirai_s = (np.sign(y_test) == np.sign(y_moirai_s)).mean()\n",
    "\n",
    "# Unit2TS-Moirai-MoE-Small\n",
    "r2_moirai_moe_s  = r2(y_test, y_moirai_moe_s)\n",
    "mse_moirai_moe_s = mean_squared_error(y_test, y_moirai_moe_s)\n",
    "mae_moirai_moe_s = mean_absolute_error(y_test, y_moirai_moe_s)\n",
    "da_moirai_moe_s = (np.sign(y_test) == np.sign(y_moirai_moe_s)).mean()\n",
    "\n",
    "# Unit2TS-Moirai-MoE-Base\n",
    "r2_moirai_moe_b  = r2(y_test, y_moirai_moe_b)\n",
    "mse_moirai_moe_b = mean_squared_error(y_test, y_moirai_moe_b)\n",
    "mae_moirai_moe_b = mean_absolute_error(y_test, y_moirai_moe_b)\n",
    "da_moirai_moe_b = (np.sign(y_test) == np.sign(y_moirai_moe_b)).mean()"
   ]
  },
  {
   "cell_type": "code",
   "execution_count": null,
   "id": "ebf5119b",
   "metadata": {},
   "outputs": [],
   "source": [
    "# Collating Results\n",
    "\n",
    "results_matrix = [{\n",
    "        \"Model\": \"Uni2ts-Moirai Small\",\n",
    "        \"R-squared\": r2_moirai_s,\n",
    "        \"MSE\": mse_moirai_s,\n",
    "        \"MAE\": mae_moirai_s,\n",
    "        \"Direction Accuracy\": da_moirai_s\n",
    "    },\n",
    "    {\n",
    "        \"Model\": \"Uni2ts-Moirai-MoE Small\",\n",
    "        \"R-squared\": r2_moirai_moe_s,\n",
    "        \"MSE\": mse_moirai_moe_s,\n",
    "        \"MAE\": mae_moirai_moe_s,\n",
    "        \"Direction Accuracy\": da_moirai_moe_s\n",
    "    },\n",
    "    {\n",
    "        \"Model\": \"Uni2ts-Moirai-MoE Base\",\n",
    "        \"R-squared\": r2_moirai_moe_b,\n",
    "        \"MSE\": mse_moirai_moe_b,\n",
    "        \"MAE\": mae_moirai_moe_b,\n",
    "        \"Direction Accuracy\": da_moirai_moe_b\n",
    "    }]\n",
    "\n",
    "results_matrix_df = pd.DataFrame(results_matrix)\n",
    "results_matrix_df"
   ]
  },
  {
   "cell_type": "markdown",
   "id": "cfaaf45d",
   "metadata": {},
   "source": [
    "##### Save Results"
   ]
  },
  {
   "cell_type": "code",
   "execution_count": null,
   "id": "61553e2d",
   "metadata": {},
   "outputs": [],
   "source": [
    "# Save Prediction Results\n",
    "results.to_csv(results_path, index=False)"
   ]
  },
  {
   "cell_type": "code",
   "execution_count": null,
   "id": "a56d96d3",
   "metadata": {},
   "outputs": [],
   "source": []
  }
 ],
 "metadata": {
  "kernelspec": {
   "display_name": "uni2ts_env",
   "language": "python",
   "name": "python3"
  },
  "language_info": {
   "codemirror_mode": {
    "name": "ipython",
    "version": 3
   },
   "file_extension": ".py",
   "mimetype": "text/x-python",
   "name": "python",
   "nbconvert_exporter": "python",
   "pygments_lexer": "ipython3",
   "version": "3.10.18"
  }
 },
 "nbformat": 4,
 "nbformat_minor": 5
}
